{
  "nbformat": 4,
  "nbformat_minor": 0,
  "metadata": {
    "colab": {
      "provenance": [],
      "mount_file_id": "18JjgHvh8EKy5AW3mTojonnv23YCkoR-W",
      "authorship_tag": "ABX9TyMxFb0IpMpXhnoSmaLUKVn/",
      "include_colab_link": true
    },
    "kernelspec": {
      "name": "python3",
      "display_name": "Python 3"
    },
    "language_info": {
      "name": "python"
    }
  },
  "cells": [
    {
      "cell_type": "markdown",
      "metadata": {
        "id": "view-in-github",
        "colab_type": "text"
      },
      "source": [
        "<a href=\"https://colab.research.google.com/github/NourhanZahran/Colab-notes/blob/main/Copy_of_SMOTE_LRRK2.ipynb\" target=\"_parent\"><img src=\"https://colab.research.google.com/assets/colab-badge.svg\" alt=\"Open In Colab\"/></a>"
      ]
    },
    {
      "cell_type": "code",
      "execution_count": null,
      "metadata": {
        "colab": {
          "base_uri": "https://localhost:8080/"
        },
        "id": "YvPrxSETUrem",
        "outputId": "72944611-99ad-4c62-a1ee-a97ee0859c26"
      },
      "outputs": [
        {
          "output_type": "stream",
          "name": "stdout",
          "text": [
            "Looking in indexes: https://pypi.org/simple, https://us-python.pkg.dev/colab-wheels/public/simple/\n",
            "Requirement already satisfied: imblearn in /usr/local/lib/python3.8/dist-packages (0.0)\n",
            "Requirement already satisfied: imbalanced-learn in /usr/local/lib/python3.8/dist-packages (from imblearn) (0.8.1)\n",
            "Requirement already satisfied: scipy>=0.19.1 in /usr/local/lib/python3.8/dist-packages (from imbalanced-learn->imblearn) (1.7.3)\n",
            "Requirement already satisfied: numpy>=1.13.3 in /usr/local/lib/python3.8/dist-packages (from imbalanced-learn->imblearn) (1.21.6)\n",
            "Requirement already satisfied: scikit-learn>=0.24 in /usr/local/lib/python3.8/dist-packages (from imbalanced-learn->imblearn) (1.0.2)\n",
            "Requirement already satisfied: joblib>=0.11 in /usr/local/lib/python3.8/dist-packages (from imbalanced-learn->imblearn) (1.2.0)\n",
            "Requirement already satisfied: threadpoolctl>=2.0.0 in /usr/local/lib/python3.8/dist-packages (from scikit-learn>=0.24->imbalanced-learn->imblearn) (3.1.0)\n"
          ]
        }
      ],
      "source": [
        "!pip install imblearn"
      ]
    },
    {
      "cell_type": "code",
      "source": [
        "import pandas as pd"
      ],
      "metadata": {
        "id": "C5ZVVYiFU1Yg"
      },
      "execution_count": null,
      "outputs": []
    },
    {
      "cell_type": "code",
      "source": [
        "df = pd.read_csv(\"ESTATEFP_best.csv\")\n",
        "\n",
        "\n",
        "X = df.drop(\"label\",axis=1)\n",
        "\n",
        "y = df[\"label\"]"
      ],
      "metadata": {
        "id": "OqLa5rfOU1bS"
      },
      "execution_count": null,
      "outputs": []
    },
    {
      "cell_type": "code",
      "source": [
        "X.head()"
      ],
      "metadata": {
        "colab": {
          "base_uri": "https://localhost:8080/",
          "height": 299
        },
        "id": "54bZnhXvU1eE",
        "outputId": "a62b97e9-af9b-41af-8b70-f64303020f4e"
      },
      "execution_count": null,
      "outputs": [
        {
          "output_type": "execute_result",
          "data": {
            "text/plain": [
              "   EStateFP7  EStateFP8  EStateFP9  EStateFP10  EStateFP11  EStateFP13  \\\n",
              "0          1          0          1           0           0           1   \n",
              "1          0          0          1           0           0           0   \n",
              "2          0          0          1           0           0           0   \n",
              "3          1          0          1           0           0           0   \n",
              "4          1          0          1           0           0           0   \n",
              "\n",
              "   EStateFP15  EStateFP16  EStateFP17  EStateFP18  ...  EStateFP36  \\\n",
              "0           0           0           1           0  ...           1   \n",
              "1           0           1           1           0  ...           1   \n",
              "2           0           1           1           0  ...           1   \n",
              "3           0           1           1           1  ...           1   \n",
              "4           0           1           1           1  ...           1   \n",
              "\n",
              "   EStateFP37  EStateFP38  EStateFP46  EStateFP50  EStateFP51  EStateFP53  \\\n",
              "0           0           0           0           0           0           1   \n",
              "1           0           1           0           0           0           0   \n",
              "2           1           0           0           0           0           0   \n",
              "3           0           0           0           0           0           0   \n",
              "4           0           1           0           0           0           0   \n",
              "\n",
              "   EStateFP54  EStateFP70  EStateFP75  \n",
              "0           1           0           0  \n",
              "1           0           0           0  \n",
              "2           0           1           0  \n",
              "3           0           0           0  \n",
              "4           0           0           0  \n",
              "\n",
              "[5 rows x 33 columns]"
            ],
            "text/html": [
              "\n",
              "  <div id=\"df-1a8c9a58-1da1-4563-a020-70f353fe15d1\">\n",
              "    <div class=\"colab-df-container\">\n",
              "      <div>\n",
              "<style scoped>\n",
              "    .dataframe tbody tr th:only-of-type {\n",
              "        vertical-align: middle;\n",
              "    }\n",
              "\n",
              "    .dataframe tbody tr th {\n",
              "        vertical-align: top;\n",
              "    }\n",
              "\n",
              "    .dataframe thead th {\n",
              "        text-align: right;\n",
              "    }\n",
              "</style>\n",
              "<table border=\"1\" class=\"dataframe\">\n",
              "  <thead>\n",
              "    <tr style=\"text-align: right;\">\n",
              "      <th></th>\n",
              "      <th>EStateFP7</th>\n",
              "      <th>EStateFP8</th>\n",
              "      <th>EStateFP9</th>\n",
              "      <th>EStateFP10</th>\n",
              "      <th>EStateFP11</th>\n",
              "      <th>EStateFP13</th>\n",
              "      <th>EStateFP15</th>\n",
              "      <th>EStateFP16</th>\n",
              "      <th>EStateFP17</th>\n",
              "      <th>EStateFP18</th>\n",
              "      <th>...</th>\n",
              "      <th>EStateFP36</th>\n",
              "      <th>EStateFP37</th>\n",
              "      <th>EStateFP38</th>\n",
              "      <th>EStateFP46</th>\n",
              "      <th>EStateFP50</th>\n",
              "      <th>EStateFP51</th>\n",
              "      <th>EStateFP53</th>\n",
              "      <th>EStateFP54</th>\n",
              "      <th>EStateFP70</th>\n",
              "      <th>EStateFP75</th>\n",
              "    </tr>\n",
              "  </thead>\n",
              "  <tbody>\n",
              "    <tr>\n",
              "      <th>0</th>\n",
              "      <td>1</td>\n",
              "      <td>0</td>\n",
              "      <td>1</td>\n",
              "      <td>0</td>\n",
              "      <td>0</td>\n",
              "      <td>1</td>\n",
              "      <td>0</td>\n",
              "      <td>0</td>\n",
              "      <td>1</td>\n",
              "      <td>0</td>\n",
              "      <td>...</td>\n",
              "      <td>1</td>\n",
              "      <td>0</td>\n",
              "      <td>0</td>\n",
              "      <td>0</td>\n",
              "      <td>0</td>\n",
              "      <td>0</td>\n",
              "      <td>1</td>\n",
              "      <td>1</td>\n",
              "      <td>0</td>\n",
              "      <td>0</td>\n",
              "    </tr>\n",
              "    <tr>\n",
              "      <th>1</th>\n",
              "      <td>0</td>\n",
              "      <td>0</td>\n",
              "      <td>1</td>\n",
              "      <td>0</td>\n",
              "      <td>0</td>\n",
              "      <td>0</td>\n",
              "      <td>0</td>\n",
              "      <td>1</td>\n",
              "      <td>1</td>\n",
              "      <td>0</td>\n",
              "      <td>...</td>\n",
              "      <td>1</td>\n",
              "      <td>0</td>\n",
              "      <td>1</td>\n",
              "      <td>0</td>\n",
              "      <td>0</td>\n",
              "      <td>0</td>\n",
              "      <td>0</td>\n",
              "      <td>0</td>\n",
              "      <td>0</td>\n",
              "      <td>0</td>\n",
              "    </tr>\n",
              "    <tr>\n",
              "      <th>2</th>\n",
              "      <td>0</td>\n",
              "      <td>0</td>\n",
              "      <td>1</td>\n",
              "      <td>0</td>\n",
              "      <td>0</td>\n",
              "      <td>0</td>\n",
              "      <td>0</td>\n",
              "      <td>1</td>\n",
              "      <td>1</td>\n",
              "      <td>0</td>\n",
              "      <td>...</td>\n",
              "      <td>1</td>\n",
              "      <td>1</td>\n",
              "      <td>0</td>\n",
              "      <td>0</td>\n",
              "      <td>0</td>\n",
              "      <td>0</td>\n",
              "      <td>0</td>\n",
              "      <td>0</td>\n",
              "      <td>1</td>\n",
              "      <td>0</td>\n",
              "    </tr>\n",
              "    <tr>\n",
              "      <th>3</th>\n",
              "      <td>1</td>\n",
              "      <td>0</td>\n",
              "      <td>1</td>\n",
              "      <td>0</td>\n",
              "      <td>0</td>\n",
              "      <td>0</td>\n",
              "      <td>0</td>\n",
              "      <td>1</td>\n",
              "      <td>1</td>\n",
              "      <td>1</td>\n",
              "      <td>...</td>\n",
              "      <td>1</td>\n",
              "      <td>0</td>\n",
              "      <td>0</td>\n",
              "      <td>0</td>\n",
              "      <td>0</td>\n",
              "      <td>0</td>\n",
              "      <td>0</td>\n",
              "      <td>0</td>\n",
              "      <td>0</td>\n",
              "      <td>0</td>\n",
              "    </tr>\n",
              "    <tr>\n",
              "      <th>4</th>\n",
              "      <td>1</td>\n",
              "      <td>0</td>\n",
              "      <td>1</td>\n",
              "      <td>0</td>\n",
              "      <td>0</td>\n",
              "      <td>0</td>\n",
              "      <td>0</td>\n",
              "      <td>1</td>\n",
              "      <td>1</td>\n",
              "      <td>1</td>\n",
              "      <td>...</td>\n",
              "      <td>1</td>\n",
              "      <td>0</td>\n",
              "      <td>1</td>\n",
              "      <td>0</td>\n",
              "      <td>0</td>\n",
              "      <td>0</td>\n",
              "      <td>0</td>\n",
              "      <td>0</td>\n",
              "      <td>0</td>\n",
              "      <td>0</td>\n",
              "    </tr>\n",
              "  </tbody>\n",
              "</table>\n",
              "<p>5 rows × 33 columns</p>\n",
              "</div>\n",
              "      <button class=\"colab-df-convert\" onclick=\"convertToInteractive('df-1a8c9a58-1da1-4563-a020-70f353fe15d1')\"\n",
              "              title=\"Convert this dataframe to an interactive table.\"\n",
              "              style=\"display:none;\">\n",
              "        \n",
              "  <svg xmlns=\"http://www.w3.org/2000/svg\" height=\"24px\"viewBox=\"0 0 24 24\"\n",
              "       width=\"24px\">\n",
              "    <path d=\"M0 0h24v24H0V0z\" fill=\"none\"/>\n",
              "    <path d=\"M18.56 5.44l.94 2.06.94-2.06 2.06-.94-2.06-.94-.94-2.06-.94 2.06-2.06.94zm-11 1L8.5 8.5l.94-2.06 2.06-.94-2.06-.94L8.5 2.5l-.94 2.06-2.06.94zm10 10l.94 2.06.94-2.06 2.06-.94-2.06-.94-.94-2.06-.94 2.06-2.06.94z\"/><path d=\"M17.41 7.96l-1.37-1.37c-.4-.4-.92-.59-1.43-.59-.52 0-1.04.2-1.43.59L10.3 9.45l-7.72 7.72c-.78.78-.78 2.05 0 2.83L4 21.41c.39.39.9.59 1.41.59.51 0 1.02-.2 1.41-.59l7.78-7.78 2.81-2.81c.8-.78.8-2.07 0-2.86zM5.41 20L4 18.59l7.72-7.72 1.47 1.35L5.41 20z\"/>\n",
              "  </svg>\n",
              "      </button>\n",
              "      \n",
              "  <style>\n",
              "    .colab-df-container {\n",
              "      display:flex;\n",
              "      flex-wrap:wrap;\n",
              "      gap: 12px;\n",
              "    }\n",
              "\n",
              "    .colab-df-convert {\n",
              "      background-color: #E8F0FE;\n",
              "      border: none;\n",
              "      border-radius: 50%;\n",
              "      cursor: pointer;\n",
              "      display: none;\n",
              "      fill: #1967D2;\n",
              "      height: 32px;\n",
              "      padding: 0 0 0 0;\n",
              "      width: 32px;\n",
              "    }\n",
              "\n",
              "    .colab-df-convert:hover {\n",
              "      background-color: #E2EBFA;\n",
              "      box-shadow: 0px 1px 2px rgba(60, 64, 67, 0.3), 0px 1px 3px 1px rgba(60, 64, 67, 0.15);\n",
              "      fill: #174EA6;\n",
              "    }\n",
              "\n",
              "    [theme=dark] .colab-df-convert {\n",
              "      background-color: #3B4455;\n",
              "      fill: #D2E3FC;\n",
              "    }\n",
              "\n",
              "    [theme=dark] .colab-df-convert:hover {\n",
              "      background-color: #434B5C;\n",
              "      box-shadow: 0px 1px 3px 1px rgba(0, 0, 0, 0.15);\n",
              "      filter: drop-shadow(0px 1px 2px rgba(0, 0, 0, 0.3));\n",
              "      fill: #FFFFFF;\n",
              "    }\n",
              "  </style>\n",
              "\n",
              "      <script>\n",
              "        const buttonEl =\n",
              "          document.querySelector('#df-1a8c9a58-1da1-4563-a020-70f353fe15d1 button.colab-df-convert');\n",
              "        buttonEl.style.display =\n",
              "          google.colab.kernel.accessAllowed ? 'block' : 'none';\n",
              "\n",
              "        async function convertToInteractive(key) {\n",
              "          const element = document.querySelector('#df-1a8c9a58-1da1-4563-a020-70f353fe15d1');\n",
              "          const dataTable =\n",
              "            await google.colab.kernel.invokeFunction('convertToInteractive',\n",
              "                                                     [key], {});\n",
              "          if (!dataTable) return;\n",
              "\n",
              "          const docLinkHtml = 'Like what you see? Visit the ' +\n",
              "            '<a target=\"_blank\" href=https://colab.research.google.com/notebooks/data_table.ipynb>data table notebook</a>'\n",
              "            + ' to learn more about interactive tables.';\n",
              "          element.innerHTML = '';\n",
              "          dataTable['output_type'] = 'display_data';\n",
              "          await google.colab.output.renderOutput(dataTable, element);\n",
              "          const docLink = document.createElement('div');\n",
              "          docLink.innerHTML = docLinkHtml;\n",
              "          element.appendChild(docLink);\n",
              "        }\n",
              "      </script>\n",
              "    </div>\n",
              "  </div>\n",
              "  "
            ]
          },
          "metadata": {},
          "execution_count": 4
        }
      ]
    },
    {
      "cell_type": "code",
      "source": [
        "from sklearn.model_selection import train_test_split,cross_validate\n",
        "\n",
        "from sklearn.ensemble import RandomForestClassifier\n",
        "\n",
        "from sklearn.metrics import accuracy_score,recall_score,precision_score,matthews_corrcoef,roc_auc_score,make_scorer,auc"
      ],
      "metadata": {
        "id": "rkCmruorU1gw"
      },
      "execution_count": null,
      "outputs": []
    },
    {
      "cell_type": "code",
      "source": [
        "X_train, X_test, y_train, y_test = train_test_split(X, y, test_size=0.2, random_state=42)"
      ],
      "metadata": {
        "id": "ra2a8nuoVjRy"
      },
      "execution_count": null,
      "outputs": []
    },
    {
      "cell_type": "code",
      "source": [
        "from imblearn.over_sampling import SMOTE"
      ],
      "metadata": {
        "id": "zvivCEpCU1jO"
      },
      "execution_count": null,
      "outputs": []
    },
    {
      "cell_type": "code",
      "source": [
        "y_train.value_counts()"
      ],
      "metadata": {
        "colab": {
          "base_uri": "https://localhost:8080/"
        },
        "id": "dxY8pJDoU1mM",
        "outputId": "e5714bb3-84e7-44ee-f2fb-bbaf2986ce55"
      },
      "execution_count": null,
      "outputs": [
        {
          "output_type": "execute_result",
          "data": {
            "text/plain": [
              "1    1732\n",
              "0     198\n",
              "Name: label, dtype: int64"
            ]
          },
          "metadata": {},
          "execution_count": 9
        }
      ]
    },
    {
      "cell_type": "code",
      "source": [
        "smote = SMOTE(random_state=42,sampling_strategy=0.5)"
      ],
      "metadata": {
        "id": "vToY-GB5U1oq"
      },
      "execution_count": null,
      "outputs": []
    },
    {
      "cell_type": "code",
      "source": [
        "X_train,y_train = smote.fit_resample(X_train,y_train)"
      ],
      "metadata": {
        "id": "c4aM9qyeU1rz"
      },
      "execution_count": null,
      "outputs": []
    },
    {
      "cell_type": "code",
      "source": [
        "y_train.value_counts()"
      ],
      "metadata": {
        "id": "u9eA1cUbVYxi",
        "outputId": "80d319dd-dfc6-4411-f39f-79d7c0751b45",
        "colab": {
          "base_uri": "https://localhost:8080/"
        }
      },
      "execution_count": null,
      "outputs": [
        {
          "output_type": "execute_result",
          "data": {
            "text/plain": [
              "1    1732\n",
              "0     866\n",
              "Name: label, dtype: int64"
            ]
          },
          "metadata": {},
          "execution_count": 12
        }
      ]
    },
    {
      "cell_type": "code",
      "source": [
        "SN = make_scorer(recall_score)\n",
        "\n",
        "SP = make_scorer(recall_score,pos_label=0)\n",
        "\n",
        "\n",
        "Q = make_scorer(accuracy_score)\n",
        "\n",
        "MCC = make_scorer(matthews_corrcoef)\n",
        "\n",
        "\n",
        "scoring = {\"SN\":SN,\"SP\":SP,\"Q\":Q,\"MCC\":MCC}"
      ],
      "metadata": {
        "id": "7PPcZs0nVY-6"
      },
      "execution_count": null,
      "outputs": []
    },
    {
      "cell_type": "code",
      "source": [
        "rf = RandomForestClassifier(random_state=42)"
      ],
      "metadata": {
        "id": "k5r9KzMtVZBj"
      },
      "execution_count": null,
      "outputs": []
    },
    {
      "cell_type": "code",
      "source": [
        "cv_results = pd.DataFrame(cross_validate(rf,X_train,y_train,cv=10,scoring=scoring))"
      ],
      "metadata": {
        "id": "ch4gnZ1SV8Ac"
      },
      "execution_count": null,
      "outputs": []
    },
    {
      "cell_type": "code",
      "source": [
        "cv_results.describe().T"
      ],
      "metadata": {
        "id": "Zai0Y_iRV8DN",
        "outputId": "59a86ad2-b2cc-4271-dcaa-95db6a215c49",
        "colab": {
          "base_uri": "https://localhost:8080/",
          "height": 237
        }
      },
      "execution_count": null,
      "outputs": [
        {
          "output_type": "execute_result",
          "data": {
            "text/plain": [
              "            count      mean       std       min       25%       50%       75%  \\\n",
              "fit_time     10.0  0.262332  0.013665  0.248492  0.254517  0.259594  0.266403   \n",
              "score_time   10.0  0.024881  0.001139  0.023860  0.024124  0.024415  0.025320   \n",
              "test_SN      10.0  0.888569  0.020206  0.861272  0.874277  0.884742  0.896402   \n",
              "test_SP      10.0  0.866881  0.121736  0.639535  0.781275  0.925287  0.953889   \n",
              "test_Q       10.0  0.881458  0.045002  0.811538  0.839315  0.899814  0.907692   \n",
              "test_MCC     10.0  0.740835  0.110032  0.561276  0.642838  0.792248  0.811321   \n",
              "\n",
              "                 max  \n",
              "fit_time    0.295174  \n",
              "score_time  0.026881  \n",
              "test_SN     0.930636  \n",
              "test_SP     0.977011  \n",
              "test_Q      0.938462  \n",
              "test_MCC    0.866871  "
            ],
            "text/html": [
              "\n",
              "  <div id=\"df-fed7c128-d714-4488-8bfe-205a76739e16\">\n",
              "    <div class=\"colab-df-container\">\n",
              "      <div>\n",
              "<style scoped>\n",
              "    .dataframe tbody tr th:only-of-type {\n",
              "        vertical-align: middle;\n",
              "    }\n",
              "\n",
              "    .dataframe tbody tr th {\n",
              "        vertical-align: top;\n",
              "    }\n",
              "\n",
              "    .dataframe thead th {\n",
              "        text-align: right;\n",
              "    }\n",
              "</style>\n",
              "<table border=\"1\" class=\"dataframe\">\n",
              "  <thead>\n",
              "    <tr style=\"text-align: right;\">\n",
              "      <th></th>\n",
              "      <th>count</th>\n",
              "      <th>mean</th>\n",
              "      <th>std</th>\n",
              "      <th>min</th>\n",
              "      <th>25%</th>\n",
              "      <th>50%</th>\n",
              "      <th>75%</th>\n",
              "      <th>max</th>\n",
              "    </tr>\n",
              "  </thead>\n",
              "  <tbody>\n",
              "    <tr>\n",
              "      <th>fit_time</th>\n",
              "      <td>10.0</td>\n",
              "      <td>0.262332</td>\n",
              "      <td>0.013665</td>\n",
              "      <td>0.248492</td>\n",
              "      <td>0.254517</td>\n",
              "      <td>0.259594</td>\n",
              "      <td>0.266403</td>\n",
              "      <td>0.295174</td>\n",
              "    </tr>\n",
              "    <tr>\n",
              "      <th>score_time</th>\n",
              "      <td>10.0</td>\n",
              "      <td>0.024881</td>\n",
              "      <td>0.001139</td>\n",
              "      <td>0.023860</td>\n",
              "      <td>0.024124</td>\n",
              "      <td>0.024415</td>\n",
              "      <td>0.025320</td>\n",
              "      <td>0.026881</td>\n",
              "    </tr>\n",
              "    <tr>\n",
              "      <th>test_SN</th>\n",
              "      <td>10.0</td>\n",
              "      <td>0.888569</td>\n",
              "      <td>0.020206</td>\n",
              "      <td>0.861272</td>\n",
              "      <td>0.874277</td>\n",
              "      <td>0.884742</td>\n",
              "      <td>0.896402</td>\n",
              "      <td>0.930636</td>\n",
              "    </tr>\n",
              "    <tr>\n",
              "      <th>test_SP</th>\n",
              "      <td>10.0</td>\n",
              "      <td>0.866881</td>\n",
              "      <td>0.121736</td>\n",
              "      <td>0.639535</td>\n",
              "      <td>0.781275</td>\n",
              "      <td>0.925287</td>\n",
              "      <td>0.953889</td>\n",
              "      <td>0.977011</td>\n",
              "    </tr>\n",
              "    <tr>\n",
              "      <th>test_Q</th>\n",
              "      <td>10.0</td>\n",
              "      <td>0.881458</td>\n",
              "      <td>0.045002</td>\n",
              "      <td>0.811538</td>\n",
              "      <td>0.839315</td>\n",
              "      <td>0.899814</td>\n",
              "      <td>0.907692</td>\n",
              "      <td>0.938462</td>\n",
              "    </tr>\n",
              "    <tr>\n",
              "      <th>test_MCC</th>\n",
              "      <td>10.0</td>\n",
              "      <td>0.740835</td>\n",
              "      <td>0.110032</td>\n",
              "      <td>0.561276</td>\n",
              "      <td>0.642838</td>\n",
              "      <td>0.792248</td>\n",
              "      <td>0.811321</td>\n",
              "      <td>0.866871</td>\n",
              "    </tr>\n",
              "  </tbody>\n",
              "</table>\n",
              "</div>\n",
              "      <button class=\"colab-df-convert\" onclick=\"convertToInteractive('df-fed7c128-d714-4488-8bfe-205a76739e16')\"\n",
              "              title=\"Convert this dataframe to an interactive table.\"\n",
              "              style=\"display:none;\">\n",
              "        \n",
              "  <svg xmlns=\"http://www.w3.org/2000/svg\" height=\"24px\"viewBox=\"0 0 24 24\"\n",
              "       width=\"24px\">\n",
              "    <path d=\"M0 0h24v24H0V0z\" fill=\"none\"/>\n",
              "    <path d=\"M18.56 5.44l.94 2.06.94-2.06 2.06-.94-2.06-.94-.94-2.06-.94 2.06-2.06.94zm-11 1L8.5 8.5l.94-2.06 2.06-.94-2.06-.94L8.5 2.5l-.94 2.06-2.06.94zm10 10l.94 2.06.94-2.06 2.06-.94-2.06-.94-.94-2.06-.94 2.06-2.06.94z\"/><path d=\"M17.41 7.96l-1.37-1.37c-.4-.4-.92-.59-1.43-.59-.52 0-1.04.2-1.43.59L10.3 9.45l-7.72 7.72c-.78.78-.78 2.05 0 2.83L4 21.41c.39.39.9.59 1.41.59.51 0 1.02-.2 1.41-.59l7.78-7.78 2.81-2.81c.8-.78.8-2.07 0-2.86zM5.41 20L4 18.59l7.72-7.72 1.47 1.35L5.41 20z\"/>\n",
              "  </svg>\n",
              "      </button>\n",
              "      \n",
              "  <style>\n",
              "    .colab-df-container {\n",
              "      display:flex;\n",
              "      flex-wrap:wrap;\n",
              "      gap: 12px;\n",
              "    }\n",
              "\n",
              "    .colab-df-convert {\n",
              "      background-color: #E8F0FE;\n",
              "      border: none;\n",
              "      border-radius: 50%;\n",
              "      cursor: pointer;\n",
              "      display: none;\n",
              "      fill: #1967D2;\n",
              "      height: 32px;\n",
              "      padding: 0 0 0 0;\n",
              "      width: 32px;\n",
              "    }\n",
              "\n",
              "    .colab-df-convert:hover {\n",
              "      background-color: #E2EBFA;\n",
              "      box-shadow: 0px 1px 2px rgba(60, 64, 67, 0.3), 0px 1px 3px 1px rgba(60, 64, 67, 0.15);\n",
              "      fill: #174EA6;\n",
              "    }\n",
              "\n",
              "    [theme=dark] .colab-df-convert {\n",
              "      background-color: #3B4455;\n",
              "      fill: #D2E3FC;\n",
              "    }\n",
              "\n",
              "    [theme=dark] .colab-df-convert:hover {\n",
              "      background-color: #434B5C;\n",
              "      box-shadow: 0px 1px 3px 1px rgba(0, 0, 0, 0.15);\n",
              "      filter: drop-shadow(0px 1px 2px rgba(0, 0, 0, 0.3));\n",
              "      fill: #FFFFFF;\n",
              "    }\n",
              "  </style>\n",
              "\n",
              "      <script>\n",
              "        const buttonEl =\n",
              "          document.querySelector('#df-fed7c128-d714-4488-8bfe-205a76739e16 button.colab-df-convert');\n",
              "        buttonEl.style.display =\n",
              "          google.colab.kernel.accessAllowed ? 'block' : 'none';\n",
              "\n",
              "        async function convertToInteractive(key) {\n",
              "          const element = document.querySelector('#df-fed7c128-d714-4488-8bfe-205a76739e16');\n",
              "          const dataTable =\n",
              "            await google.colab.kernel.invokeFunction('convertToInteractive',\n",
              "                                                     [key], {});\n",
              "          if (!dataTable) return;\n",
              "\n",
              "          const docLinkHtml = 'Like what you see? Visit the ' +\n",
              "            '<a target=\"_blank\" href=https://colab.research.google.com/notebooks/data_table.ipynb>data table notebook</a>'\n",
              "            + ' to learn more about interactive tables.';\n",
              "          element.innerHTML = '';\n",
              "          dataTable['output_type'] = 'display_data';\n",
              "          await google.colab.output.renderOutput(dataTable, element);\n",
              "          const docLink = document.createElement('div');\n",
              "          docLink.innerHTML = docLinkHtml;\n",
              "          element.appendChild(docLink);\n",
              "        }\n",
              "      </script>\n",
              "    </div>\n",
              "  </div>\n",
              "  "
            ]
          },
          "metadata": {},
          "execution_count": 16
        }
      ]
    },
    {
      "cell_type": "code",
      "source": [
        "rf.fit(X_train,y_train)\n",
        "\n",
        "yHat_train= rf.predict(X_train)\n",
        "\n",
        "yHat_test = rf.predict(X_test)\n",
        "\n"
      ],
      "metadata": {
        "id": "EOrQETZMV8F5"
      },
      "execution_count": null,
      "outputs": []
    },
    {
      "cell_type": "code",
      "source": [
        "print(recall_score(y_train,yHat_train)) #SN\n",
        "print(recall_score(y_train,yHat_train,pos_label=0)) #SP\n",
        "print(matthews_corrcoef(y_train,yHat_train)) #MCC\n",
        "print(accuracy_score(y_train,yHat_train)) # Q"
      ],
      "metadata": {
        "id": "GxPtQj-iV8IJ",
        "outputId": "9b59081a-c303-4355-c34d-9e8a310bb40c",
        "colab": {
          "base_uri": "https://localhost:8080/"
        }
      },
      "execution_count": null,
      "outputs": [
        {
          "output_type": "stream",
          "name": "stdout",
          "text": [
            "0.9272517321016166\n",
            "0.9237875288683602\n",
            "0.8376427921922228\n",
            "0.9260969976905312\n"
          ]
        }
      ]
    },
    {
      "cell_type": "code",
      "source": [
        "print(recall_score(y_test,yHat_test))\n",
        "print(recall_score(y_test,yHat_test,pos_label=0))\n",
        "print(matthews_corrcoef(y_test,yHat_test))\n",
        "print(accuracy_score(y_test,yHat_test))\n",
        "print(roc_auc_score(y_test,rf.predict_proba(X_test)[:, 1]))\n"
      ],
      "metadata": {
        "id": "RNsQWrfMV8Kx",
        "outputId": "e9a43c9c-3f74-4db0-9475-da4d51253a8e",
        "colab": {
          "base_uri": "https://localhost:8080/"
        }
      },
      "execution_count": null,
      "outputs": [
        {
          "output_type": "stream",
          "name": "stdout",
          "text": [
            "0.8850574712643678\n",
            "0.5\n",
            "0.3198256474320862\n",
            "0.8467908902691511\n",
            "0.8187260536398467\n"
          ]
        }
      ]
    },
    {
      "cell_type": "code",
      "source": [
        "from sklearn.metrics import RocCurveDisplay, confusion_matrix, ConfusionMatrixDisplay,classification_report"
      ],
      "metadata": {
        "id": "vO7g7_woV8NM"
      },
      "execution_count": null,
      "outputs": []
    },
    {
      "cell_type": "code",
      "source": [
        "import matplotlib.pyplot as plt\n"
      ],
      "metadata": {
        "id": "e2TiFWjwV8Qj"
      },
      "execution_count": null,
      "outputs": []
    },
    {
      "cell_type": "code",
      "source": [
        "\n",
        "\n",
        "RocCurveDisplay.from_estimator(rf,X_test,y_test)\n",
        "plt.plot([0,1],[0,1],\"--k\")\n",
        "\n",
        "plt.xlabel(\"FPR\",weight=\"bold\",size=14)\n",
        "plt.ylabel(\"TPR\",weight=\"bold\",size=14)\n",
        "plt.xticks(size=12)\n",
        "plt.yticks(size=12)\n",
        "\n",
        "\n",
        "plt.title(\"EstateFP Dataset\",weight=\"bold\")\n",
        "legend_properties = {'weight':'bold'}\n",
        "\n",
        "\n",
        "plt.legend([\"AUC = 0.82\"],prop=legend_properties,loc=\"lower right\")\n",
        "\n",
        "plt.savefig(\"EstateFP ROC.tiff\",dpi=300)\n",
        "\n",
        "plt.show()\n"
      ],
      "metadata": {
        "id": "hpMW5qK-Wbzb",
        "outputId": "3cbf43d7-5c99-42ba-dca4-b23157d352a2",
        "colab": {
          "base_uri": "https://localhost:8080/",
          "height": 302
        }
      },
      "execution_count": null,
      "outputs": [
        {
          "output_type": "display_data",
          "data": {
            "text/plain": [
              "<Figure size 432x288 with 1 Axes>"
            ],
            "image/png": "[encoded data removed]"
          },
          "metadata": {
            "needs_background": "light"
          }
        }
      ]
    },
    {
      "cell_type": "code",
      "source": [
        "print(classification_report(y_test,yHat_test))"
      ],
      "metadata": {
        "id": "F9hh1XlxWb2k",
        "outputId": "4edeec66-4533-4ecd-d41e-b76c6aad54f4",
        "colab": {
          "base_uri": "https://localhost:8080/"
        }
      },
      "execution_count": null,
      "outputs": [
        {
          "output_type": "stream",
          "name": "stdout",
          "text": [
            "              precision    recall  f1-score   support\n",
            "\n",
            "           0       0.32      0.50      0.39        48\n",
            "           1       0.94      0.89      0.91       435\n",
            "\n",
            "    accuracy                           0.85       483\n",
            "   macro avg       0.63      0.69      0.65       483\n",
            "weighted avg       0.88      0.85      0.86       483\n",
            "\n"
          ]
        }
      ]
    },
    {
      "cell_type": "code",
      "source": [
        "cm = confusion_matrix(y_test,yHat_test)"
      ],
      "metadata": {
        "id": "CufYefOFWb5H"
      },
      "execution_count": null,
      "outputs": []
    },
    {
      "cell_type": "code",
      "source": [
        "disp = ConfusionMatrixDisplay(cm)\n",
        "\n",
        "disp.plot()"
      ],
      "metadata": {
        "id": "qsY4Hk4BWb7w",
        "outputId": "031f951e-8ea5-42e4-d129-07d783307613",
        "colab": {
          "base_uri": "https://localhost:8080/",
          "height": 296
        }
      },
      "execution_count": null,
      "outputs": [
        {
          "output_type": "execute_result",
          "data": {
            "text/plain": [
              "<sklearn.metrics._plot.confusion_matrix.ConfusionMatrixDisplay at 0x7faa3dec2190>"
            ]
          },
          "metadata": {},
          "execution_count": 25
        },
        {
          "output_type": "display_data",
          "data": {
            "text/plain": [
              "<Figure size 432x288 with 2 Axes>"
            ],
            "image/png": "[encoded data removed]"
          },
          "metadata": {
            "needs_background": "light"
          }
        }
      ]
    },
    {
      "cell_type": "code",
      "source": [
        "import pickle"
      ],
      "metadata": {
        "id": "sBQ-PsDqWb-Y"
      },
      "execution_count": null,
      "outputs": []
    },
    {
      "cell_type": "code",
      "source": [
        "pickle.dump(rf, open('lrrk2_model.pkl', 'wb'))\n"
      ],
      "metadata": {
        "id": "sIWN1OiaWcBO"
      },
      "execution_count": null,
      "outputs": []
    },
    {
      "cell_type": "code",
      "source": [
        "pickled_model = pickle.load(open('lrrk2_model.pkl', 'rb'))"
      ],
      "metadata": {
        "id": "LKDc6b4HWcEp"
      },
      "execution_count": null,
      "outputs": []
    },
    {
      "cell_type": "code",
      "source": [
        "feat_imp = pd.Series(rf.feature_importances_,index=X.columns).nlargest(15)"
      ],
      "metadata": {
        "id": "YVzpaaIsVZFJ"
      },
      "execution_count": null,
      "outputs": []
    },
    {
      "cell_type": "code",
      "source": [
        "feat_imp"
      ],
      "metadata": {
        "id": "8zBnZ3dTW8A8"
      },
      "execution_count": null,
      "outputs": []
    },
    {
      "cell_type": "code",
      "source": [
        "import seaborn as sns\n",
        "\n",
        "import matplotlib.pyplot as plt"
      ],
      "metadata": {
        "id": "b6eDdZ5uW8DZ"
      },
      "execution_count": null,
      "outputs": []
    },
    {
      "cell_type": "code",
      "source": [
        "plt.figure(figsize=(8,5))\n",
        "sns.barplot(x =feat_imp,y = feat_imp.index,palette=\"cool\")\n",
        "\n",
        "plt.xlabel(\"Gini Index\",weight=\"bold\",size=14)\n",
        "plt.xticks(size=12)\n",
        "plt.yticks(size=12)\n",
        "\n",
        "plt.tight_layout()\n",
        "\n",
        "plt.savefig(\"feat_importance.png\",dpi=300)\n",
        "plt.show()"
      ],
      "metadata": {
        "id": "YcfgtTgVW8GD"
      },
      "execution_count": null,
      "outputs": []
    },
    {
      "cell_type": "code",
      "source": [],
      "metadata": {
        "id": "Jqy4VmTcW8Jm"
      },
      "execution_count": null,
      "outputs": []
    },
    {
      "cell_type": "code",
      "source": [
        "df = pd.read_csv(\"APFP_best.csv\")\n",
        "\n",
        "\n",
        "X = df.drop(\"label\",axis=1)\n",
        "\n",
        "y = df[\"label\"]"
      ],
      "metadata": {
        "id": "JthjnboqYa_E"
      },
      "execution_count": null,
      "outputs": []
    },
    {
      "cell_type": "code",
      "source": [
        "from sklearn.model_selection import train_test_split,cross_validate\n",
        "\n",
        "from sklearn.ensemble import RandomForestClassifier\n",
        "\n",
        "from sklearn.metrics import accuracy_score,recall_score,precision_score,matthews_corrcoef,roc_auc_score,make_scorer,auc"
      ],
      "metadata": {
        "id": "ZajXlRkoYbBy"
      },
      "execution_count": null,
      "outputs": []
    },
    {
      "cell_type": "code",
      "source": [
        "X_train, X_test, y_train, y_test = train_test_split(X, y, test_size=0.2, random_state=42)"
      ],
      "metadata": {
        "id": "kiGFOZIWYbEh"
      },
      "execution_count": null,
      "outputs": []
    },
    {
      "cell_type": "code",
      "source": [
        "from imblearn.over_sampling import SMOTE"
      ],
      "metadata": {
        "id": "wPZ-Fi6qYsjj"
      },
      "execution_count": null,
      "outputs": []
    },
    {
      "cell_type": "code",
      "source": [
        "y_train.value_counts()"
      ],
      "metadata": {
        "id": "vMDW5n5gYsm-",
        "outputId": "2f206bdb-1e78-4bc3-9f6f-6826926b7be2",
        "colab": {
          "base_uri": "https://localhost:8080/"
        }
      },
      "execution_count": null,
      "outputs": [
        {
          "output_type": "execute_result",
          "data": {
            "text/plain": [
              "1    1732\n",
              "0     198\n",
              "Name: label, dtype: int64"
            ]
          },
          "metadata": {},
          "execution_count": 32
        }
      ]
    },
    {
      "cell_type": "code",
      "source": [
        "smote = SMOTE(random_state=42,sampling_strategy=0.5)"
      ],
      "metadata": {
        "id": "3uMyoci8Ysul"
      },
      "execution_count": null,
      "outputs": []
    },
    {
      "cell_type": "code",
      "source": [
        "X_train,y_train = smote.fit_resample(X_train,y_train)"
      ],
      "metadata": {
        "id": "Dn0DvbvtYsxD"
      },
      "execution_count": null,
      "outputs": []
    },
    {
      "cell_type": "code",
      "source": [
        "y_train.value_counts()"
      ],
      "metadata": {
        "id": "fzpqx8G1Yszb",
        "outputId": "08bd510f-a5c2-4cc6-8694-e9883b3dbd58",
        "colab": {
          "base_uri": "https://localhost:8080/"
        }
      },
      "execution_count": null,
      "outputs": [
        {
          "output_type": "execute_result",
          "data": {
            "text/plain": [
              "1    1732\n",
              "0     866\n",
              "Name: label, dtype: int64"
            ]
          },
          "metadata": {},
          "execution_count": 35
        }
      ]
    },
    {
      "cell_type": "code",
      "source": [
        "SN = make_scorer(recall_score)\n",
        "\n",
        "SP = make_scorer(recall_score,pos_label=0)\n",
        "\n",
        "\n",
        "Q = make_scorer(accuracy_score)\n",
        "\n",
        "MCC = make_scorer(matthews_corrcoef)\n",
        "\n",
        "\n",
        "scoring = {\"SN\":SN,\"SP\":SP,\"Q\":Q,\"MCC\":MCC}"
      ],
      "metadata": {
        "id": "8byZzXpiYs28"
      },
      "execution_count": null,
      "outputs": []
    },
    {
      "cell_type": "code",
      "source": [
        "rf = RandomForestClassifier(random_state=42)"
      ],
      "metadata": {
        "id": "P4M1kYGHZAdu"
      },
      "execution_count": null,
      "outputs": []
    },
    {
      "cell_type": "code",
      "source": [],
      "metadata": {
        "id": "H_M__HJMZAla"
      },
      "execution_count": null,
      "outputs": []
    },
    {
      "cell_type": "code",
      "source": [
        "cv_results = pd.DataFrame(cross_validate(rf,X_train,y_train,cv=10,scoring=scoring))"
      ],
      "metadata": {
        "id": "xea0iZi9yeUB"
      },
      "execution_count": null,
      "outputs": []
    },
    {
      "cell_type": "code",
      "source": [
        "rf.fit(X_train,y_train)\n",
        "\n",
        "yHat_train= rf.predict(X_train)\n",
        "\n",
        "yHat_test = rf.predict(X_test)\n",
        "\n"
      ],
      "metadata": {
        "id": "vizR3JzGZAo0"
      },
      "execution_count": null,
      "outputs": []
    },
    {
      "cell_type": "code",
      "source": [
        "print(recall_score(y_train,yHat_train)) #SN\n",
        "print(recall_score(y_train,yHat_train,pos_label=0)) #SP\n",
        "print(matthews_corrcoef(y_train,yHat_train)) #MCC\n",
        "print(accuracy_score(y_train,yHat_train)) # Q"
      ],
      "metadata": {
        "id": "eOn3wARsZRTY",
        "outputId": "fb2accc7-d2fc-49f6-cce5-e50fab1f65a5",
        "colab": {
          "base_uri": "https://localhost:8080/"
        }
      },
      "execution_count": null,
      "outputs": [
        {
          "output_type": "stream",
          "name": "stdout",
          "text": [
            "0.9653579676674365\n",
            "0.953810623556582\n",
            "0.9140276306366831\n",
            "0.9615088529638183\n"
          ]
        }
      ]
    },
    {
      "cell_type": "code",
      "source": [
        "print(recall_score(y_test,yHat_test))\n",
        "print(recall_score(y_test,yHat_test,pos_label=0))\n",
        "print(matthews_corrcoef(y_test,yHat_test))\n",
        "print(accuracy_score(y_test,yHat_test))\n",
        "print(roc_auc_score(y_test,rf.predict_proba(X_test)[:, 1]))\n"
      ],
      "metadata": {
        "id": "pGbv1bUvZU_x",
        "outputId": "5aef9b36-5ae4-4925-da00-47c60f050a81",
        "colab": {
          "base_uri": "https://localhost:8080/"
        }
      },
      "execution_count": null,
      "outputs": [
        {
          "output_type": "stream",
          "name": "stdout",
          "text": [
            "0.9310344827586207\n",
            "0.4583333333333333\n",
            "0.3758244162199131\n",
            "0.8840579710144928\n",
            "0.8724377394636015\n"
          ]
        }
      ]
    },
    {
      "cell_type": "code",
      "source": [
        "from sklearn.metrics import RocCurveDisplay, confusion_matrix, ConfusionMatrixDisplay,classification_report"
      ],
      "metadata": {
        "id": "wYy9FCMMZVKs"
      },
      "execution_count": null,
      "outputs": []
    },
    {
      "cell_type": "code",
      "source": [
        "import matplotlib.pyplot as plt\n",
        "\n"
      ],
      "metadata": {
        "id": "4MzHFdiUZVNK"
      },
      "execution_count": null,
      "outputs": []
    },
    {
      "cell_type": "code",
      "source": [
        "\n",
        "\n",
        "RocCurveDisplay.from_estimator(rf,X_test,y_test)\n",
        "plt.plot([0,1],[0,1],\"--k\")\n",
        "\n",
        "plt.xlabel(\"FPR\",weight=\"bold\",size=14)\n",
        "plt.ylabel(\"TPR\",weight=\"bold\",size=14)\n",
        "plt.xticks(size=12)\n",
        "plt.yticks(size=12)\n",
        "\n",
        "\n",
        "plt.title(\"APFP Dataset\",weight=\"bold\")\n",
        "legend_properties = {'weight':'bold'}\n",
        "\n",
        "\n",
        "plt.legend([\"AUC = 0.87\"],prop=legend_properties,loc=\"lower right\")\n",
        "\n",
        "plt.savefig(\"APFP ROC.tiff\",dpi=300)\n",
        "\n",
        "plt.show()\n"
      ],
      "metadata": {
        "id": "z4pDGi-QZVQj",
        "outputId": "eea57c45-ad88-4d68-e925-c5dde33f1406",
        "colab": {
          "base_uri": "https://localhost:8080/",
          "height": 302
        }
      },
      "execution_count": null,
      "outputs": [
        {
          "output_type": "display_data",
          "data": {
            "text/plain": [
              "<Figure size 432x288 with 1 Axes>"
            ],
            "image/png": "[encoded data removed]"
          },
          "metadata": {
            "needs_background": "light"
          }
        }
      ]
    }
  ]
}