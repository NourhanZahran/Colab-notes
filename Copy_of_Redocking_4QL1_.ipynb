{
  "nbformat": 4,
  "nbformat_minor": 0,
  "metadata": {
    "colab": {
      "provenance": [],
      "mount_file_id": "1V6AGLQ55tk5HxOIXoWIblPArr4Ekh8dT",
      "authorship_tag": "ABX9TyPzzIHxSoA0KFGoGUPbjFWZ",
      "include_colab_link": true
    },
    "kernelspec": {
      "name": "python3",
      "display_name": "Python 3"
    },
    "language_info": {
      "name": "python"
    }
  },
  "cells": [
    {
      "cell_type": "markdown",
      "metadata": {
        "id": "view-in-github",
        "colab_type": "text"
      },
      "source": [
        "<a href=\"https://colab.research.google.com/github/NourhanZahran/Collection-data-chemical.space.analysis/blob/main/Copy_of_Redocking_4QL1_.ipynb\" target=\"_parent\"><img src=\"https://colab.research.google.com/assets/colab-badge.svg\" alt=\"Open In Colab\"/></a>"
      ]
    },
    {
      "cell_type": "code",
      "execution_count": null,
      "metadata": {
        "colab": {
          "base_uri": "https://localhost:8080/"
        },
        "id": "yt20ssxGPilF",
        "outputId": "5ff075ef-c1aa-4657-bfb8-5f8eeb358196"
      },
      "outputs": [
        {
          "output_type": "stream",
          "name": "stdout",
          "text": [
            "--2023-03-13 11:22:46--  https://repo.continuum.io/miniconda/Miniconda3-latest-Linux-x86_64.sh\n",
            "Resolving repo.continuum.io (repo.continuum.io)... 104.18.201.79, 104.18.200.79, 2606:4700::6812:c84f, ...\n",
            "Connecting to repo.continuum.io (repo.continuum.io)|104.18.201.79|:443... connected.\n",
            "HTTP request sent, awaiting response... 301 Moved Permanently\n",
            "Location: https://repo.anaconda.com/miniconda/Miniconda3-latest-Linux-x86_64.sh [following]\n",
            "--2023-03-13 11:22:46--  https://repo.anaconda.com/miniconda/Miniconda3-latest-Linux-x86_64.sh\n",
            "Resolving repo.anaconda.com (repo.anaconda.com)... 104.16.130.3, 104.16.131.3, 2606:4700::6810:8203, ...\n",
            "Connecting to repo.anaconda.com (repo.anaconda.com)|104.16.130.3|:443... connected.\n",
            "HTTP request sent, awaiting response... 416 Requested Range Not Satisfiable\n",
            "\n",
            "    The file is already fully retrieved; nothing to do.\n",
            "\n",
            "PREFIX=/usr/local\n",
            "Unpacking payload ...\n",
            "Extracting : pcre-8.45-h9c3ff4c_0.tar.bz2:  92% 78/85 [00:38<00:11,  1.67s/it]           Process ForkProcess-2:\n",
            "                                                                              Traceback (most recent call last):\n",
            "Traceback (most recent call last):\n",
            "  File \"entry_point.py\", line 69, in <module>\n",
            "  File \"concurrent/futures/process.py\", line 562, in _chain_from_iterable_of_lists\n",
            "  File \"concurrent/futures/_base.py\", line 609, in result_iterator\n",
            "  File \"concurrent/futures/_base.py\", line 441, in result\n",
            "  File \"threading.py\", line 312, in wait\n",
            "KeyboardInterrupt\n",
            "\n",
            "During handling of the above exception, another exception occurred:\n",
            "\n",
            "Traceback (most recent call last):\n",
            "  File \"entry_point.py\", line 71, in <module>\n",
            "  File \"tqdm/std.py\", line 1154, in __exit__\n",
            "  File \"tqdm/std.py\", line 1320, in close\n",
            "  File \"tqdm/std.py\", line 1509, in display\n",
            "  File \"tqdm/std.py\", line 350, in print_status\n",
            "  File \"multiprocessing/process.py\", line 315, in _bootstrap\n",
            "  File \"tqdm/std.py\", line 343, in fp_write\n",
            "  File \"multiprocessing/process.py\", line 108, in run\n",
            "  File \"concurrent/futures/process.py\", line 240, in _process_worker\n",
            "  File \"multiprocessing/queues.py\", line 103, in get\n",
            "  File \"tqdm/utils.py\", line 145, in inner\n",
            "  File \"multiprocessing/connection.py\", line 221, in recv_bytes\n",
            "  File \"multiprocessing/connection.py\", line 419, in _recv_bytes\n",
            "  File \"multiprocessing/connection.py\", line 384, in _recv\n",
            "KeyboardInterrupt\n",
            "KeyboardInterrupt\n",
            "[34862] Failed to execute script 'entry_point' due to unhandled exception!\n"
          ]
        }
      ],
      "source": [
        "!wget -c https://repo.continuum.io/miniconda/Miniconda3-latest-Linux-x86_64.sh\n",
        "!chmod +x Miniconda3-latest-Linux-x86_64.sh\n",
        "!bash ./Miniconda3-latest-Linux-x86_64.sh -b -f -p /usr/local"
      ]
    },
    {
      "cell_type": "code",
      "source": [
        "!apt install openbabel"
      ],
      "metadata": {
        "colab": {
          "base_uri": "https://localhost:8080/"
        },
        "id": "qsVLzahBPn8M",
        "outputId": "628eafcd-0a8e-43b5-a1bd-3843ec25feb0"
      },
      "execution_count": null,
      "outputs": [
        {
          "output_type": "stream",
          "name": "stdout",
          "text": [
            "Reading package lists... Done\n",
            "Building dependency tree       \n",
            "Reading state information... Done\n",
            "openbabel is already the newest version (3.0.0+dfsg-3ubuntu3).\n",
            "0 upgraded, 0 newly installed, 0 to remove and 22 not upgraded.\n"
          ]
        }
      ]
    },
    {
      "cell_type": "code",
      "source": [
        "!conda install -c conda-forge smina -y"
      ],
      "metadata": {
        "colab": {
          "base_uri": "https://localhost:8080/"
        },
        "id": "VUT0FbNkPoDj",
        "outputId": "040d99f8-090d-4ba9-a6f0-7dfc46db474c"
      },
      "execution_count": null,
      "outputs": [
        {
          "output_type": "stream",
          "name": "stdout",
          "text": [
            "Collecting package metadata (current_repodata.json): - \b\b\\ \b\b| \b\b/ \b\b- \b\b\\ \b\b| \b\b/ \b\b- \b\b\\ \b\b| \b\b/ \b\b- \b\b\\ \b\b| \b\b/ \b\b- \b\b\\ \b\b| \b\b/ \b\b- \b\b\\ \b\b| \b\b/ \b\b- \b\b\\ \b\b| \b\b/ \b\b- \b\b\\ \b\b| \b\b/ \b\b- \b\b\\ \b\b| \b\b/ \b\b- \b\b\\ \b\b| \b\b/ \b\b- \b\b\\ \b\b| \b\b/ \b\b- \b\b\\ \b\b| \b\b/ \b\b- \b\b\\ \b\b| \b\b/ \b\b- \b\b\\ \b\b| \b\b/ \b\b- \b\b\\ \b\b| \b\b/ \b\b- \b\b\\ \b\b| \b\b/ \b\b- \b\b\\ \b\b| \b\b/ \b\b- \b\b\\ \b\b| \b\b/ \b\b- \b\b\\ \b\b| \b\b/ \b\b- \b\b\\ \b\b| \b\b/ \b\b- \b\b\\ \b\b| \b\b/ \b\b- \b\b\\ \b\b| \b\b/ \b\b- \b\b\\ \b\b| \b\b/ \b\b- \b\b\\ \b\b| \b\b/ \b\b- \b\b\\ \b\b| \b\b/ \b\b- \b\b\\ \b\b| \b\b/ \b\b- \b\b\\ \b\b| \b\b/ \b\b- \b\b\\ \b\b| \b\b/ \b\b- \b\b\\ \b\b| \b\b/ \b\b- \b\b\\ \b\b| \b\b/ \b\b- \b\b\\ \b\b| \b\b/ \b\b- \b\b\\ \b\b| \b\b/ \b\b- \b\b\\ \b\b| \b\b/ \b\b- \b\b\\ \b\b| \b\b/ \b\b- \b\b\\ \b\b| \b\b/ \b\b- \b\b\\ \b\b| \b\b/ \b\b- \b\b\\ \b\b| \b\b/ \b\b- \b\b\\ \b\b| \b\b/ \b\b- \b\b\\ \b\b| \b\b/ \b\b- \b\b\\ \b\b| \b\b/ \b\b- \b\b\\ \b\b| \b\b/ \b\b- \b\b\\ \b\b| \b\b/ \b\b- \b\b\\ \b\b| \b\b/ \b\b- \b\b\\ \b\b| \b\b/ \b\b- \b\b\\ \b\b| \b\b/ \b\b- \b\b\\ \b\b| \b\b/ \b\b- \b\b\\ \b\b| \b\b/ \b\b- \b\b\\ \b\b| \b\bdone\n",
            "Solving environment: - \b\b\\ \b\b| \b\b/ \b\b- \b\b\\ \b\b| \b\b/ \b\b- \b\b\\ \b\b| \b\b/ \b\b- \b\b\\ \b\b| \b\b/ \b\b- \b\b\\ \b\b| \b\b/ \b\b- \b\b\\ \b\b| \b\b/ \b\b- \b\b\\ \b\b| \b\b/ \b\b- \b\b\\ \b\b| \b\b/ \b\b- \b\b\\ \b\b| \b\b/ \b\b- \b\b\\ \b\b| \b\b/ \b\b- \b\b\\ \b\b| \b\b/ \b\bdone\n",
            "\n",
            "# All requested packages already installed.\n",
            "\n"
          ]
        }
      ]
    },
    {
      "cell_type": "code",
      "source": [
        "!conda install -c conda-forge pdbfixer"
      ],
      "metadata": {
        "colab": {
          "base_uri": "https://localhost:8080/"
        },
        "id": "l4dWXWDnPoJp",
        "outputId": "4f0a1cd3-ea1a-4cfb-d766-00f9f55a1e7a"
      },
      "execution_count": null,
      "outputs": [
        {
          "output_type": "stream",
          "name": "stdout",
          "text": [
            "Collecting package metadata (current_repodata.json): - \b\b\\ \b\b| \b\b/ \b\b- \b\b\\ \b\b| \b\b/ \b\b- \b\b\\ \b\b| \b\b/ \b\b- \b\b\\ \b\b| \b\b/ \b\b- \b\b\\ \b\b| \b\b/ \b\b- \b\b\\ \b\b| \b\b/ \b\b- \b\b\\ \b\b| \b\b/ \b\b- \b\b\\ \b\b| \b\b/ \b\b- \b\b\\ \b\b| \b\b/ \b\b- \b\b\\ \b\b| \b\b/ \b\b- \b\b\\ \b\b| \b\b/ \b\b- \b\bdone\n",
            "Solving environment: | \b\b/ \b\b- \b\b\\ \b\b| \b\b/ \b\b- \b\b\\ \b\b| \b\b/ \b\b- \b\b\\ \b\b| \b\b/ \b\b- \b\b\\ \b\b| \b\b/ \b\b- \b\b\\ \b\b| \b\b/ \b\b- \b\b\\ \b\b| \b\b/ \b\b- \b\b\\ \b\b| \b\b/ \b\b- \b\b\\ \b\b| \b\b/ \b\b- \b\b\\ \b\b| \b\b/ \b\b- \b\b\\ \b\b| \b\b/ \b\b- \b\b\\ \b\b| \b\b/ \b\b- \b\b\\ \b\b| \b\b/ \b\b- \b\b\\ \b\b| \b\b/ \b\b- \b\b\\ \b\b| \b\b/ \b\b- \b\b\\ \b\bdone\n",
            "\n",
            "# All requested packages already installed.\n",
            "\n"
          ]
        }
      ]
    },
    {
      "cell_type": "markdown",
      "source": [
        " PDBID :4QL1 (Crystal structure of human WDR5 in compleXwithcompound OICR-9429)\n",
        "\n",
        ""
      ],
      "metadata": {
        "id": "i3wTIUrnZSF5"
      }
    },
    {
      "cell_type": "markdown",
      "source": [
        "** OICR-9429 is a new small-molecule antagonist of the Wdr5-MLL interaction. This compound selectively inhibited proliferation and induced differentiation in p30-expressing human AML cells."
      ],
      "metadata": {
        "id": "FaXBW7m3eXRZ"
      }
    },
    {
      "cell_type": "markdown",
      "source": [
        "Ligand :OICR-9429(35Q), N-(4-(4-methylpiperazin-1-yl)-3'-(morpholinomethyl)-[1,1'-biphenyl]-3-yl)-6-oxo-4-(trifluoromethyl)-1,6-dihydropyridine-3-carboxamide"
      ],
      "metadata": {
        "id": "5jbz-mdLjP4Y"
      }
    },
    {
      "cell_type": "markdown",
      "source": [
        "Classification: TRANSCRIPTION/INHIBITOR\n"
      ],
      "metadata": {
        "id": "90g7B32lamZ9"
      }
    },
    {
      "cell_type": "markdown",
      "source": [
        "Gene:WDR5\n"
      ],
      "metadata": {
        "id": "ft1ZjdPubhRo"
      }
    },
    {
      "cell_type": "markdown",
      "source": [
        "Synonyms:BIG3\n"
      ],
      "metadata": {
        "id": "2eW58UFWbsJx"
      }
    },
    {
      "cell_type": "markdown",
      "source": [
        "Uniprot:P61964"
      ],
      "metadata": {
        "id": "VfqQhUOzb5LR"
      }
    },
    {
      "cell_type": "markdown",
      "source": [
        "Chains: A, B"
      ],
      "metadata": {
        "id": "eWwQK-gxczcp"
      }
    },
    {
      "cell_type": "markdown",
      "source": [
        "Theoretical weight: 34.29 KDa"
      ],
      "metadata": {
        "id": "l1VdK5Puc2ST"
      }
    },
    {
      "cell_type": "markdown",
      "source": [
        "Length: 312 amino acids\n"
      ],
      "metadata": {
        "id": "QI8RYT-pc5-R"
      }
    },
    {
      "cell_type": "markdown",
      "source": [
        "Organism(s): Homo sapiens"
      ],
      "metadata": {
        "id": "AjGv33elasE5"
      }
    },
    {
      "cell_type": "markdown",
      "source": [
        "Biological function: Contributes to histone modification . May position the N-terminus of histone H3 for efficient trimethylation at 'Lys-4' . As part of the MLL1/MLL complex it is involved in methylation and dimethylation at 'Lys-4' of histone H3 . H3 'Lys-4' methylation represents a specific tag for epigenetic transcriptional activation . As part of the NSL complex it may be involved in acetylation of nucleosomal histone H4 on several lysine residues . May regulate osteoblasts differentiation (By similarity). In association with RBBP5 and ASH2L, stimulates the histone methyltransferase activities of KMT2A, KMT2B, KMT2C, KMT2D, SETD1A and SETD1B."
      ],
      "metadata": {
        "id": "myUyB8I4cDl5"
      }
    },
    {
      "cell_type": "markdown",
      "source": [
        "Mutation(s):\n",
        " No ,Resolution: 1.50 *Å*"
      ],
      "metadata": {
        "id": "rrtGRycIaxQh"
      }
    },
    {
      "cell_type": "markdown",
      "source": [
        "** Interactions of ligand with Protein"
      ],
      "metadata": {
        "id": "h7LFqi84gN45"
      }
    },
    {
      "cell_type": "markdown",
      "source": [
        "![image.png](data:image/png;base64,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)"
      ],
      "metadata": {
        "id": "yjq-1ZDjf4G5"
      }
    },
    {
      "cell_type": "code",
      "source": [
        "!obabel -ipdb ligand.pdb -opdb -O ligand_hydrogen.pdb -h"
      ],
      "metadata": {
        "colab": {
          "base_uri": "https://localhost:8080/"
        },
        "id": "AWd2ZGnFa0Ip",
        "outputId": "dcf29d77-b470-4344-aed1-20de1a567c6b"
      },
      "execution_count": null,
      "outputs": [
        {
          "output_type": "stream",
          "name": "stdout",
          "text": [
            "1 molecule converted\n"
          ]
        }
      ]
    },
    {
      "cell_type": "code",
      "source": [
        "!obabel -ipdb protein.pdb -opdb -O protein_hydrogen.pdb -h"
      ],
      "metadata": {
        "colab": {
          "base_uri": "https://localhost:8080/"
        },
        "id": "bvdE5lYda0Lc",
        "outputId": "c8ec86ab-de3d-4100-82e3-cc2250686f14"
      },
      "execution_count": null,
      "outputs": [
        {
          "output_type": "stream",
          "name": "stdout",
          "text": [
            "==============================\n",
            "*** Open Babel Warning  in PerceiveBondOrders\n",
            "  Failed to kekulize aromatic bonds in OBMol::PerceiveBondOrders (title is protein.pdb)\n",
            "\n",
            "1 molecule converted\n"
          ]
        }
      ]
    },
    {
      "cell_type": "code",
      "source": [
        "!smina -r protein_hydrogen.pdb -l ligand_hydrogen.pdb --autobox_ligand ligand_hydrogen.pdb --num_modes 1 -o ligand_validated_vinardo.pdb --seed 12 --scoring vinardo"
      ],
      "metadata": {
        "colab": {
          "base_uri": "https://localhost:8080/"
        },
        "id": "tEMHkAirvjAv",
        "outputId": "1df170cb-6bdc-448f-b1ce-124de7a4ec81"
      },
      "execution_count": null,
      "outputs": [
        {
          "output_type": "stream",
          "name": "stdout",
          "text": [
            "   _______  _______ _________ _        _______ \n",
            "  (  ____ \\(       )\\__   __/( (    /|(  ___  )\n",
            "  | (    \\/| () () |   ) (   |  \\  ( || (   ) |\n",
            "  | (_____ | || || |   | |   |   \\ | || (___) |\n",
            "  (_____  )| |(_)| |   | |   | (\\ \\) ||  ___  |\n",
            "        ) || |   | |   | |   | | \\   || (   ) |\n",
            "  /\\____) || )   ( |___) (___| )  \\  || )   ( |\n",
            "  \\_______)|/     \\|\\_______/|/    )_)|/     \\|\n",
            "\n",
            "\n",
            "smina is based off AutoDock Vina. Please cite appropriately.\n",
            "\n",
            "Weights      Terms\n",
            "-0.045       gauss(o=0,_w=0.8,_c=8)\n",
            "0.8          repulsion(o=0,_c=8)\n",
            "-0.035       hydrophobic(g=0,_b=2.5,_c=8)\n",
            "-0.6         non_dir_h_bond(g=-0.6,_b=0,_c=8)\n",
            "0            num_tors_div\n",
            "\n",
            "Using random seed: 12\n",
            "\n",
            "0%   10   20   30   40   50   60   70   80   90   100%\n",
            "|----|----|----|----|----|----|----|----|----|----|\n",
            "**********************************"
          ]
        }
      ]
    },
    {
      "cell_type": "code",
      "source": [
        "!obrms ligand_hydrogen.pdb ligand_validated_vinardo.pdb"
      ],
      "metadata": {
        "colab": {
          "base_uri": "https://localhost:8080/"
        },
        "id": "6c1uL74cvjEf",
        "outputId": "31479e91-44b5-4305-a112-18df3e3b2935"
      },
      "execution_count": null,
      "outputs": [
        {
          "output_type": "stream",
          "name": "stdout",
          "text": [
            "==============================\n",
            "*** Open Babel Error  in OpenInAndOutFiles\n",
            "  Cannot read from ligand_validated_vinardo.pdb\n"
          ]
        }
      ]
    },
    {
      "cell_type": "code",
      "source": [
        "!smina -r protein_hydrogen.pdb -l ligand_hydrogen.pdb --autobox_ligand ligand_hydrogen.pdb --num_modes 1 -o ligand_validated_vina.pdb --seed 12 --scoring vina"
      ],
      "metadata": {
        "colab": {
          "base_uri": "https://localhost:8080/"
        },
        "id": "-g9hrKS0_L_Q",
        "outputId": "48ba74e9-d6e9-4fd3-f625-425774773baf"
      },
      "execution_count": null,
      "outputs": [
        {
          "output_type": "stream",
          "name": "stdout",
          "text": [
            "   _______  _______ _________ _        _______ \n",
            "  (  ____ \\(       )\\__   __/( (    /|(  ___  )\n",
            "  | (    \\/| () () |   ) (   |  \\  ( || (   ) |\n",
            "  | (_____ | || || |   | |   |   \\ | || (___) |\n",
            "  (_____  )| |(_)| |   | |   | (\\ \\) ||  ___  |\n",
            "        ) || |   | |   | |   | | \\   || (   ) |\n",
            "  /\\____) || )   ( |___) (___| )  \\  || )   ( |\n",
            "  \\_______)|/     \\|\\_______/|/    )_)|/     \\|\n",
            "\n",
            "\n",
            "smina is based off AutoDock Vina. Please cite appropriately.\n",
            "\n",
            "Weights      Terms\n",
            "-0.035579    gauss(o=0,_w=0.5,_c=8)\n",
            "-0.005156    gauss(o=3,_w=2,_c=8)\n",
            "0.840245     repulsion(o=0,_c=8)\n",
            "-0.035069    hydrophobic(g=0.5,_b=1.5,_c=8)\n",
            "-0.587439    non_dir_h_bond(g=-0.7,_b=0,_c=8)\n",
            "1.923        num_tors_div\n",
            "\n",
            "Using random seed: 12\n",
            "\n",
            "0%   10   20   30   40   50   60   70   80   90   100%\n",
            "|----|----|----|----|----|----|----|----|----|----|\n",
            "***************************************************\n",
            "\n",
            "mode |   affinity | dist from best mode\n",
            "     | (kcal/mol) | rmsd l.b.| rmsd u.b.\n",
            "-----+------------+----------+----------\n",
            "1       -11.0      0.000      0.000    \n",
            "Refine time 158.721\n",
            "Loop time 161.127\n"
          ]
        }
      ]
    },
    {
      "cell_type": "code",
      "source": [
        "!obrms ligand_hydrogen.pdb ligand_validated_vina.pdb"
      ],
      "metadata": {
        "colab": {
          "base_uri": "https://localhost:8080/"
        },
        "id": "7vJwph0w_MR9",
        "outputId": "ae66631f-0725-4903-e63b-9c13435b2d10"
      },
      "execution_count": null,
      "outputs": [
        {
          "output_type": "stream",
          "name": "stdout",
          "text": [
            "RMSD ligand_hydrogen.pdb:ligand_validated_vina.pdb 1.86944\n"
          ]
        }
      ]
    },
    {
      "cell_type": "code",
      "source": [
        "!smina -r protein_hydrogen.pdb -l ligand_hydrogen.pdb --autobox_ligand ligand_hydrogen.pdb --num_modes 1 -o ligand_validated_default.pdb --seed 12 --scoring default"
      ],
      "metadata": {
        "colab": {
          "base_uri": "https://localhost:8080/"
        },
        "id": "KVck87p7_MVl",
        "outputId": "7521babb-f2a3-4369-f365-e3bb9c767721"
      },
      "execution_count": null,
      "outputs": [
        {
          "output_type": "stream",
          "name": "stdout",
          "text": [
            "   _______  _______ _________ _        _______ \n",
            "  (  ____ \\(       )\\__   __/( (    /|(  ___  )\n",
            "  | (    \\/| () () |   ) (   |  \\  ( || (   ) |\n",
            "  | (_____ | || || |   | |   |   \\ | || (___) |\n",
            "  (_____  )| |(_)| |   | |   | (\\ \\) ||  ___  |\n",
            "        ) || |   | |   | |   | | \\   || (   ) |\n",
            "  /\\____) || )   ( |___) (___| )  \\  || )   ( |\n",
            "  \\_______)|/     \\|\\_______/|/    )_)|/     \\|\n",
            "\n",
            "\n",
            "smina is based off AutoDock Vina. Please cite appropriately.\n",
            "\n",
            "Weights      Terms\n",
            "-0.035579    gauss(o=0,_w=0.5,_c=8)\n",
            "-0.005156    gauss(o=3,_w=2,_c=8)\n",
            "0.840245     repulsion(o=0,_c=8)\n",
            "-0.035069    hydrophobic(g=0.5,_b=1.5,_c=8)\n",
            "-0.587439    non_dir_h_bond(g=-0.7,_b=0,_c=8)\n",
            "1.923        num_tors_div\n",
            "\n",
            "Using random seed: 12\n",
            "\n",
            "0%   10   20   30   40   50   60   70   80   90   100%\n",
            "|----|----|----|----|----|----|----|----|----|----|\n",
            "***************************************************\n",
            "\n",
            "mode |   affinity | dist from best mode\n",
            "     | (kcal/mol) | rmsd l.b.| rmsd u.b.\n",
            "-----+------------+----------+----------\n",
            "1       -11.0      0.000      0.000    \n",
            "Refine time 156.573\n",
            "Loop time 160.092\n"
          ]
        }
      ]
    },
    {
      "cell_type": "code",
      "source": [
        "!obrms ligand_hydrogen.pdb ligand_validated_default.pdb"
      ],
      "metadata": {
        "colab": {
          "base_uri": "https://localhost:8080/"
        },
        "id": "tHllmBcN_MYe",
        "outputId": "26a64b8b-5985-4e07-b1bf-5e85d6a3b516"
      },
      "execution_count": null,
      "outputs": [
        {
          "output_type": "stream",
          "name": "stdout",
          "text": [
            "RMSD ligand_hydrogen.pdb:ligand_validated_default.pdb 1.86944\n"
          ]
        }
      ]
    },
    {
      "cell_type": "code",
      "source": [
        "!smina -r protein_hydrogen.pdb -l ligand_hydrogen.pdb --autobox_ligand ligand_hydrogen.pdb --num_modes 1 -o ligand_validated_ad4.pdb --seed 12 --scoring ad4_scoring"
      ],
      "metadata": {
        "colab": {
          "base_uri": "https://localhost:8080/"
        },
        "id": "PVfAqguB_MbG",
        "outputId": "b8a9dcb7-2580-4c7c-d404-bdf4ca06fa89"
      },
      "execution_count": null,
      "outputs": [
        {
          "output_type": "stream",
          "name": "stdout",
          "text": [
            "   _______  _______ _________ _        _______ \n",
            "  (  ____ \\(       )\\__   __/( (    /|(  ___  )\n",
            "  | (    \\/| () () |   ) (   |  \\  ( || (   ) |\n",
            "  | (_____ | || || |   | |   |   \\ | || (___) |\n",
            "  (_____  )| |(_)| |   | |   | (\\ \\) ||  ___  |\n",
            "        ) || |   | |   | |   | | \\   || (   ) |\n",
            "  /\\____) || )   ( |___) (___| )  \\  || )   ( |\n",
            "  \\_______)|/     \\|\\_______/|/    )_)|/     \\|\n",
            "\n",
            "\n",
            "smina is based off AutoDock Vina. Please cite appropriately.\n",
            "\n",
            "Weights      Terms\n",
            "0.156        vdw(i=6,_j=12,_s=0,_^=100,_c=8)\n",
            "-0.0974      non_dir_h_bond_lj(o=-0.7,_^=100,_c=8)\n",
            "0.1159       ad4_solvation(d-sigma=3.5,_s/q=0.01097,_c=8)\n",
            "0.1465       electrostatic(i=1,_^=100,_c=8)\n",
            "0.2744       num_tors_add\n",
            "\n",
            "Using random seed: 12\n",
            "\n",
            "0%   10   20   30   40   50   60   70   80   90   100%\n",
            "|----|----|----|----|----|----|----|----|----|----|\n",
            "***************************************************\n",
            "\n",
            "mode |   affinity | dist from best mode\n",
            "     | (kcal/mol) | rmsd l.b.| rmsd u.b.\n",
            "-----+------------+----------+----------\n",
            "1       -53.9      0.000      0.000    \n",
            "Refine time 304.177\n",
            "Loop time 308.206\n"
          ]
        }
      ]
    },
    {
      "cell_type": "code",
      "source": [
        "!obrms ligand_hydrogen.pdb ligand_validated.pdb"
      ],
      "metadata": {
        "colab": {
          "base_uri": "https://localhost:8080/"
        },
        "id": "2mymi7Uw_Md9",
        "outputId": "cc426026-89c8-4d09-e24d-38d7da6eb105"
      },
      "execution_count": null,
      "outputs": [
        {
          "output_type": "stream",
          "name": "stdout",
          "text": [
            "RMSD ligand_hydrogen.pdb:ligand_validated.pdb 8.32984\n"
          ]
        }
      ]
    },
    {
      "cell_type": "code",
      "source": [
        "!smina -r protein_hydrogen.pdb -l ligand_hydrogen.pdb --autobox_ligand ligand_hydrogen.pdb --num_modes 1 -o ligand_validated_dkoes_scoring.pdb --seed 12 --scoring dkoes_scoring"
      ],
      "metadata": {
        "colab": {
          "base_uri": "https://localhost:8080/"
        },
        "id": "aWQO6vl-_6sv",
        "outputId": "7ede7836-9927-48fb-a027-fe1d8cc3bc46"
      },
      "execution_count": null,
      "outputs": [
        {
          "output_type": "stream",
          "name": "stdout",
          "text": [
            "   _______  _______ _________ _        _______ \n",
            "  (  ____ \\(       )\\__   __/( (    /|(  ___  )\n",
            "  | (    \\/| () () |   ) (   |  \\  ( || (   ) |\n",
            "  | (_____ | || || |   | |   |   \\ | || (___) |\n",
            "  (_____  )| |(_)| |   | |   | (\\ \\) ||  ___  |\n",
            "        ) || |   | |   | |   | | \\   || (   ) |\n",
            "  /\\____) || )   ( |___) (___| )  \\  || )   ( |\n",
            "  \\_______)|/     \\|\\_______/|/    )_)|/     \\|\n",
            "\n",
            "\n",
            "smina is based off AutoDock Vina. Please cite appropriately.\n",
            "\n",
            "Weights      Terms\n",
            "0.0099       vdw(i=4,_j=8,_s=0,_^=100,_c=8)\n",
            "-0.153055    non_dir_h_bond(g=-0.7,_b=0,_c=8)\n",
            "0.048934     ad4_solvation(d-sigma=3.6,_s/q=0.01097,_c=8)\n",
            "0.317267     num_tors_sqr\n",
            "-2.46902     constant_term\n",
            "\n",
            "Using random seed: 12\n",
            "\n",
            "0%   10   20   30   40   50   60   70   80   90   100%\n",
            "|----|----|----|----|----|----|----|----|----|----|\n",
            "***************************************************\n",
            "\n",
            "mode |   affinity | dist from best mode\n",
            "     | (kcal/mol) | rmsd l.b.| rmsd u.b.\n",
            "-----+------------+----------+----------\n",
            "1       -9.3       0.000      0.000    \n",
            "Refine time 259.641\n",
            "Loop time 262.447\n"
          ]
        }
      ]
    },
    {
      "cell_type": "code",
      "source": [
        "!obrms ligand_hydrogen.pdb ligand_validated_dkoes_scoring.pdb"
      ],
      "metadata": {
        "colab": {
          "base_uri": "https://localhost:8080/"
        },
        "id": "6H6C4ABJ_6vF",
        "outputId": "7b8aca72-f2e5-47eb-fa32-f1e8fa2eadaa"
      },
      "execution_count": null,
      "outputs": [
        {
          "output_type": "stream",
          "name": "stdout",
          "text": [
            "RMSD ligand_hydrogen.pdb:ligand_validated_dkoes_scoring.pdb 8.97262\n"
          ]
        }
      ]
    },
    {
      "cell_type": "code",
      "source": [
        "!smina -r protein_hydrogen.pdb -l ligand_hydrogen.pdb --autobox_ligand ligand_hydrogen.pdb --num_modes 1 -o ligand_validated_dkoes_fast.pdb --seed 12 --scoring dkoes_fast"
      ],
      "metadata": {
        "colab": {
          "base_uri": "https://localhost:8080/"
        },
        "id": "5bphjOMq_6xu",
        "outputId": "1ad73b86-c6d5-4c36-e342-fbccdb5501da"
      },
      "execution_count": null,
      "outputs": [
        {
          "output_type": "stream",
          "name": "stdout",
          "text": [
            "   _______  _______ _________ _        _______ \n",
            "  (  ____ \\(       )\\__   __/( (    /|(  ___  )\n",
            "  | (    \\/| () () |   ) (   |  \\  ( || (   ) |\n",
            "  | (_____ | || || |   | |   |   \\ | || (___) |\n",
            "  (_____  )| |(_)| |   | |   | (\\ \\) ||  ___  |\n",
            "        ) || |   | |   | |   | | \\   || (   ) |\n",
            "  /\\____) || )   ( |___) (___| )  \\  || )   ( |\n",
            "  \\_______)|/     \\|\\_______/|/    )_)|/     \\|\n",
            "\n",
            "\n",
            "smina is based off AutoDock Vina. Please cite appropriately.\n",
            "\n",
            "Weights      Terms\n",
            "0.008962     vdw(i=4,_j=8,_s=0,_^=100,_c=8)\n",
            "0.387739     non_dir_h_bond(g=-0.7,_b=0,_c=8)\n",
            "0.285035     num_tors_sqr\n",
            "-2.46736     constant_term\n",
            "\n",
            "Using random seed: 12\n",
            "\n",
            "0%   10   20   30   40   50   60   70   80   90   100%\n",
            "|----|----|----|----|----|----|----|----|----|----|\n",
            "***************************************************\n",
            "\n",
            "mode |   affinity | dist from best mode\n",
            "     | (kcal/mol) | rmsd l.b.| rmsd u.b.\n",
            "-----+------------+----------+----------\n",
            "1       -9.8       0.000      0.000    \n",
            "Refine time 151.549\n",
            "Loop time 153.265\n"
          ]
        }
      ]
    },
    {
      "cell_type": "code",
      "source": [
        "!obrms ligand_hydrogen.pdb ligand_validated_dkoes_fast.pdb"
      ],
      "metadata": {
        "colab": {
          "base_uri": "https://localhost:8080/"
        },
        "id": "yJy6H0Zk_60a",
        "outputId": "208332e5-f419-4cce-83ac-b1dc42d1bb42"
      },
      "execution_count": null,
      "outputs": [
        {
          "output_type": "stream",
          "name": "stdout",
          "text": [
            "RMSD ligand_hydrogen.pdb:ligand_validated_dkoes_fast.pdb 8.01872\n"
          ]
        }
      ]
    },
    {
      "cell_type": "code",
      "source": [
        "!smina -r protein_hydrogen.pdb -l ligand_hydrogen.pdb --autobox_ligand ligand_hydrogen.pdb --num_modes 1 -o ligand_validated_dkoes_scoring_old.pdb --seed 12 --scoring dkoes_scoring_old"
      ],
      "metadata": {
        "colab": {
          "base_uri": "https://localhost:8080/"
        },
        "id": "_usCEkTnGkeO",
        "outputId": "aabf297e-b441-44ce-c19a-f5885e8fc4f3"
      },
      "execution_count": null,
      "outputs": [
        {
          "output_type": "stream",
          "name": "stdout",
          "text": [
            "   _______  _______ _________ _        _______ \n",
            "  (  ____ \\(       )\\__   __/( (    /|(  ___  )\n",
            "  | (    \\/| () () |   ) (   |  \\  ( || (   ) |\n",
            "  | (_____ | || || |   | |   |   \\ | || (___) |\n",
            "  (_____  )| |(_)| |   | |   | (\\ \\) ||  ___  |\n",
            "        ) || |   | |   | |   | | \\   || (   ) |\n",
            "  /\\____) || )   ( |___) (___| )  \\  || )   ( |\n",
            "  \\_______)|/     \\|\\_______/|/    )_)|/     \\|\n",
            "\n",
            "\n",
            "smina is based off AutoDock Vina. Please cite appropriately.\n",
            "\n",
            "Weights      Terms\n",
            "0.010607     vdw(i=4,_j=8,_s=0,_^=100,_c=8)\n",
            "0.197201     non_dir_h_bond(g=-0.7,_b=0,_c=8)\n",
            "0.285035     num_tors_sqr\n",
            "-2.58565     constant_term\n",
            "\n",
            "Using random seed: 12\n",
            "\n",
            "0%   10   20   30   40   50   60   70   80   90   100%\n",
            "|----|----|----|----|----|----|----|----|----|----|\n",
            "***************************************************\n",
            "\n",
            "mode |   affinity | dist from best mode\n",
            "     | (kcal/mol) | rmsd l.b.| rmsd u.b.\n",
            "-----+------------+----------+----------\n",
            "1       -11.0      0.000      0.000    \n",
            "Refine time 150.597\n",
            "Loop time 152.232\n"
          ]
        }
      ]
    },
    {
      "cell_type": "code",
      "source": [
        "!obrms ligand_hydrogen.pdb ligand_validated_dkoes_scoring_old.pdb"
      ],
      "metadata": {
        "colab": {
          "base_uri": "https://localhost:8080/"
        },
        "id": "altWhiQkHOfW",
        "outputId": "e18cc01a-60cf-4969-8dfd-33e3d33a2712"
      },
      "execution_count": null,
      "outputs": [
        {
          "output_type": "stream",
          "name": "stdout",
          "text": [
            "RMSD ligand_hydrogen.pdb:ligand_validated_dkoes_scoring_old.pdb 7.43005\n"
          ]
        }
      ]
    }
  ]
}