{
  "nbformat": 4,
  "nbformat_minor": 0,
  "metadata": {
    "colab": {
      "provenance": [],
      "authorship_tag": "ABX9TyOgp3K/H+utIdga5Sto+fNN",
      "include_colab_link": true
    },
    "kernelspec": {
      "name": "python3",
      "display_name": "Python 3"
    },
    "language_info": {
      "name": "python"
    }
  },
  "cells": [
    {
      "cell_type": "markdown",
      "metadata": {
        "id": "view-in-github",
        "colab_type": "text"
      },
      "source": [
        "<a href=\"https://colab.research.google.com/github/NourhanZahran/Colab-notes/blob/main/Copy_of_SVM%26DTC_FOR_LRRK2.ipynb\" target=\"_parent\"><img src=\"https://colab.research.google.com/assets/colab-badge.svg\" alt=\"Open In Colab\"/></a>"
      ]
    },
    {
      "cell_type": "code",
      "execution_count": null,
      "metadata": {
        "colab": {
          "base_uri": "https://localhost:8080/"
        },
        "id": "jVd3xAMDS3Mq",
        "outputId": "dd16653e-bdaa-431c-a97b-70552bf29cb3"
      },
      "outputs": [
        {
          "output_type": "stream",
          "name": "stdout",
          "text": [
            "Looking in indexes: https://pypi.org/simple, https://us-python.pkg.dev/colab-wheels/public/simple/\n",
            "Requirement already satisfied: imblearn in /usr/local/lib/python3.8/dist-packages (0.0)\n",
            "Requirement already satisfied: imbalanced-learn in /usr/local/lib/python3.8/dist-packages (from imblearn) (0.8.1)\n",
            "Requirement already satisfied: joblib>=0.11 in /usr/local/lib/python3.8/dist-packages (from imbalanced-learn->imblearn) (1.2.0)\n",
            "Requirement already satisfied: numpy>=1.13.3 in /usr/local/lib/python3.8/dist-packages (from imbalanced-learn->imblearn) (1.21.6)\n",
            "Requirement already satisfied: scikit-learn>=0.24 in /usr/local/lib/python3.8/dist-packages (from imbalanced-learn->imblearn) (1.0.2)\n",
            "Requirement already satisfied: scipy>=0.19.1 in /usr/local/lib/python3.8/dist-packages (from imbalanced-learn->imblearn) (1.7.3)\n",
            "Requirement already satisfied: threadpoolctl>=2.0.0 in /usr/local/lib/python3.8/dist-packages (from scikit-learn>=0.24->imbalanced-learn->imblearn) (3.1.0)\n"
          ]
        }
      ],
      "source": [
        "!pip install imblearn"
      ]
    },
    {
      "cell_type": "code",
      "source": [
        "import pandas as pd"
      ],
      "metadata": {
        "id": "ActNDF4VTJRU"
      },
      "execution_count": null,
      "outputs": []
    },
    {
      "cell_type": "code",
      "source": [
        "df = pd.read_csv(\"PubChemFP_best.csv\")\n",
        "\n",
        "\n",
        "X = df.drop(\"label\",axis=1)\n",
        "\n",
        "y = df[\"label\"]"
      ],
      "metadata": {
        "id": "zuXqxV__TJS3"
      },
      "execution_count": null,
      "outputs": []
    },
    {
      "cell_type": "code",
      "source": [
        "X.head()"
      ],
      "metadata": {
        "colab": {
          "base_uri": "https://localhost:8080/",
          "height": 299
        },
        "id": "-jKkzxKFTJY4",
        "outputId": "698dd201-7f47-4d2c-a65b-6e6da454021a"
      },
      "execution_count": null,
      "outputs": [
        {
          "output_type": "execute_result",
          "data": {
            "text/plain": [
              "   PubchemFP1  PubchemFP2  PubchemFP3  PubchemFP12  PubchemFP13  PubchemFP15  \\\n",
              "0           1           1           1            1            0            1   \n",
              "1           1           0           0            1            0            1   \n",
              "2           1           0           0            1            0            1   \n",
              "3           1           1           0            1            0            1   \n",
              "4           1           1           0            1            0            1   \n",
              "\n",
              "   PubchemFP16  PubchemFP17  PubchemFP18  PubchemFP19  ...  PubchemFP828  \\\n",
              "0            1            0            1            1  ...             0   \n",
              "1            0            0            1            1  ...             0   \n",
              "2            0            0            1            1  ...             0   \n",
              "3            1            0            1            1  ...             0   \n",
              "4            1            0            1            1  ...             0   \n",
              "\n",
              "   PubchemFP830  PubchemFP831  PubchemFP833  PubchemFP834  PubchemFP836  \\\n",
              "0             1             0             0             0             0   \n",
              "1             0             0             0             0             0   \n",
              "2             0             0             0             0             0   \n",
              "3             0             0             0             0             0   \n",
              "4             0             0             0             0             0   \n",
              "\n",
              "   PubchemFP842  PubchemFP860  PubchemFP863  PubchemFP868  \n",
              "0             0             0             0             0  \n",
              "1             0             0             0             0  \n",
              "2             0             0             0             0  \n",
              "3             0             0             0             0  \n",
              "4             0             0             0             0  \n",
              "\n",
              "[5 rows x 554 columns]"
            ],
            "text/html": [
              "\n",
              "  <div id=\"df-5ae57f09-a1c6-4bab-8da9-5bc3aa171429\">\n",
              "    <div class=\"colab-df-container\">\n",
              "      <div>\n",
              "<style scoped>\n",
              "    .dataframe tbody tr th:only-of-type {\n",
              "        vertical-align: middle;\n",
              "    }\n",
              "\n",
              "    .dataframe tbody tr th {\n",
              "        vertical-align: top;\n",
              "    }\n",
              "\n",
              "    .dataframe thead th {\n",
              "        text-align: right;\n",
              "    }\n",
              "</style>\n",
              "<table border=\"1\" class=\"dataframe\">\n",
              "  <thead>\n",
              "    <tr style=\"text-align: right;\">\n",
              "      <th></th>\n",
              "      <th>PubchemFP1</th>\n",
              "      <th>PubchemFP2</th>\n",
              "      <th>PubchemFP3</th>\n",
              "      <th>PubchemFP12</th>\n",
              "      <th>PubchemFP13</th>\n",
              "      <th>PubchemFP15</th>\n",
              "      <th>PubchemFP16</th>\n",
              "      <th>PubchemFP17</th>\n",
              "      <th>PubchemFP18</th>\n",
              "      <th>PubchemFP19</th>\n",
              "      <th>...</th>\n",
              "      <th>PubchemFP828</th>\n",
              "      <th>PubchemFP830</th>\n",
              "      <th>PubchemFP831</th>\n",
              "      <th>PubchemFP833</th>\n",
              "      <th>PubchemFP834</th>\n",
              "      <th>PubchemFP836</th>\n",
              "      <th>PubchemFP842</th>\n",
              "      <th>PubchemFP860</th>\n",
              "      <th>PubchemFP863</th>\n",
              "      <th>PubchemFP868</th>\n",
              "    </tr>\n",
              "  </thead>\n",
              "  <tbody>\n",
              "    <tr>\n",
              "      <th>0</th>\n",
              "      <td>1</td>\n",
              "      <td>1</td>\n",
              "      <td>1</td>\n",
              "      <td>1</td>\n",
              "      <td>0</td>\n",
              "      <td>1</td>\n",
              "      <td>1</td>\n",
              "      <td>0</td>\n",
              "      <td>1</td>\n",
              "      <td>1</td>\n",
              "      <td>...</td>\n",
              "      <td>0</td>\n",
              "      <td>1</td>\n",
              "      <td>0</td>\n",
              "      <td>0</td>\n",
              "      <td>0</td>\n",
              "      <td>0</td>\n",
              "      <td>0</td>\n",
              "      <td>0</td>\n",
              "      <td>0</td>\n",
              "      <td>0</td>\n",
              "    </tr>\n",
              "    <tr>\n",
              "      <th>1</th>\n",
              "      <td>1</td>\n",
              "      <td>0</td>\n",
              "      <td>0</td>\n",
              "      <td>1</td>\n",
              "      <td>0</td>\n",
              "      <td>1</td>\n",
              "      <td>0</td>\n",
              "      <td>0</td>\n",
              "      <td>1</td>\n",
              "      <td>1</td>\n",
              "      <td>...</td>\n",
              "      <td>0</td>\n",
              "      <td>0</td>\n",
              "      <td>0</td>\n",
              "      <td>0</td>\n",
              "      <td>0</td>\n",
              "      <td>0</td>\n",
              "      <td>0</td>\n",
              "      <td>0</td>\n",
              "      <td>0</td>\n",
              "      <td>0</td>\n",
              "    </tr>\n",
              "    <tr>\n",
              "      <th>2</th>\n",
              "      <td>1</td>\n",
              "      <td>0</td>\n",
              "      <td>0</td>\n",
              "      <td>1</td>\n",
              "      <td>0</td>\n",
              "      <td>1</td>\n",
              "      <td>0</td>\n",
              "      <td>0</td>\n",
              "      <td>1</td>\n",
              "      <td>1</td>\n",
              "      <td>...</td>\n",
              "      <td>0</td>\n",
              "      <td>0</td>\n",
              "      <td>0</td>\n",
              "      <td>0</td>\n",
              "      <td>0</td>\n",
              "      <td>0</td>\n",
              "      <td>0</td>\n",
              "      <td>0</td>\n",
              "      <td>0</td>\n",
              "      <td>0</td>\n",
              "    </tr>\n",
              "    <tr>\n",
              "      <th>3</th>\n",
              "      <td>1</td>\n",
              "      <td>1</td>\n",
              "      <td>0</td>\n",
              "      <td>1</td>\n",
              "      <td>0</td>\n",
              "      <td>1</td>\n",
              "      <td>1</td>\n",
              "      <td>0</td>\n",
              "      <td>1</td>\n",
              "      <td>1</td>\n",
              "      <td>...</td>\n",
              "      <td>0</td>\n",
              "      <td>0</td>\n",
              "      <td>0</td>\n",
              "      <td>0</td>\n",
              "      <td>0</td>\n",
              "      <td>0</td>\n",
              "      <td>0</td>\n",
              "      <td>0</td>\n",
              "      <td>0</td>\n",
              "      <td>0</td>\n",
              "    </tr>\n",
              "    <tr>\n",
              "      <th>4</th>\n",
              "      <td>1</td>\n",
              "      <td>1</td>\n",
              "      <td>0</td>\n",
              "      <td>1</td>\n",
              "      <td>0</td>\n",
              "      <td>1</td>\n",
              "      <td>1</td>\n",
              "      <td>0</td>\n",
              "      <td>1</td>\n",
              "      <td>1</td>\n",
              "      <td>...</td>\n",
              "      <td>0</td>\n",
              "      <td>0</td>\n",
              "      <td>0</td>\n",
              "      <td>0</td>\n",
              "      <td>0</td>\n",
              "      <td>0</td>\n",
              "      <td>0</td>\n",
              "      <td>0</td>\n",
              "      <td>0</td>\n",
              "      <td>0</td>\n",
              "    </tr>\n",
              "  </tbody>\n",
              "</table>\n",
              "<p>5 rows × 554 columns</p>\n",
              "</div>\n",
              "      <button class=\"colab-df-convert\" onclick=\"convertToInteractive('df-5ae57f09-a1c6-4bab-8da9-5bc3aa171429')\"\n",
              "              title=\"Convert this dataframe to an interactive table.\"\n",
              "              style=\"display:none;\">\n",
              "        \n",
              "  <svg xmlns=\"http://www.w3.org/2000/svg\" height=\"24px\"viewBox=\"0 0 24 24\"\n",
              "       width=\"24px\">\n",
              "    <path d=\"M0 0h24v24H0V0z\" fill=\"none\"/>\n",
              "    <path d=\"M18.56 5.44l.94 2.06.94-2.06 2.06-.94-2.06-.94-.94-2.06-.94 2.06-2.06.94zm-11 1L8.5 8.5l.94-2.06 2.06-.94-2.06-.94L8.5 2.5l-.94 2.06-2.06.94zm10 10l.94 2.06.94-2.06 2.06-.94-2.06-.94-.94-2.06-.94 2.06-2.06.94z\"/><path d=\"M17.41 7.96l-1.37-1.37c-.4-.4-.92-.59-1.43-.59-.52 0-1.04.2-1.43.59L10.3 9.45l-7.72 7.72c-.78.78-.78 2.05 0 2.83L4 21.41c.39.39.9.59 1.41.59.51 0 1.02-.2 1.41-.59l7.78-7.78 2.81-2.81c.8-.78.8-2.07 0-2.86zM5.41 20L4 18.59l7.72-7.72 1.47 1.35L5.41 20z\"/>\n",
              "  </svg>\n",
              "      </button>\n",
              "      \n",
              "  <style>\n",
              "    .colab-df-container {\n",
              "      display:flex;\n",
              "      flex-wrap:wrap;\n",
              "      gap: 12px;\n",
              "    }\n",
              "\n",
              "    .colab-df-convert {\n",
              "      background-color: #E8F0FE;\n",
              "      border: none;\n",
              "      border-radius: 50%;\n",
              "      cursor: pointer;\n",
              "      display: none;\n",
              "      fill: #1967D2;\n",
              "      height: 32px;\n",
              "      padding: 0 0 0 0;\n",
              "      width: 32px;\n",
              "    }\n",
              "\n",
              "    .colab-df-convert:hover {\n",
              "      background-color: #E2EBFA;\n",
              "      box-shadow: 0px 1px 2px rgba(60, 64, 67, 0.3), 0px 1px 3px 1px rgba(60, 64, 67, 0.15);\n",
              "      fill: #174EA6;\n",
              "    }\n",
              "\n",
              "    [theme=dark] .colab-df-convert {\n",
              "      background-color: #3B4455;\n",
              "      fill: #D2E3FC;\n",
              "    }\n",
              "\n",
              "    [theme=dark] .colab-df-convert:hover {\n",
              "      background-color: #434B5C;\n",
              "      box-shadow: 0px 1px 3px 1px rgba(0, 0, 0, 0.15);\n",
              "      filter: drop-shadow(0px 1px 2px rgba(0, 0, 0, 0.3));\n",
              "      fill: #FFFFFF;\n",
              "    }\n",
              "  </style>\n",
              "\n",
              "      <script>\n",
              "        const buttonEl =\n",
              "          document.querySelector('#df-5ae57f09-a1c6-4bab-8da9-5bc3aa171429 button.colab-df-convert');\n",
              "        buttonEl.style.display =\n",
              "          google.colab.kernel.accessAllowed ? 'block' : 'none';\n",
              "\n",
              "        async function convertToInteractive(key) {\n",
              "          const element = document.querySelector('#df-5ae57f09-a1c6-4bab-8da9-5bc3aa171429');\n",
              "          const dataTable =\n",
              "            await google.colab.kernel.invokeFunction('convertToInteractive',\n",
              "                                                     [key], {});\n",
              "          if (!dataTable) return;\n",
              "\n",
              "          const docLinkHtml = 'Like what you see? Visit the ' +\n",
              "            '<a target=\"_blank\" href=https://colab.research.google.com/notebooks/data_table.ipynb>data table notebook</a>'\n",
              "            + ' to learn more about interactive tables.';\n",
              "          element.innerHTML = '';\n",
              "          dataTable['output_type'] = 'display_data';\n",
              "          await google.colab.output.renderOutput(dataTable, element);\n",
              "          const docLink = document.createElement('div');\n",
              "          docLink.innerHTML = docLinkHtml;\n",
              "          element.appendChild(docLink);\n",
              "        }\n",
              "      </script>\n",
              "    </div>\n",
              "  </div>\n",
              "  "
            ]
          },
          "metadata": {},
          "execution_count": 4
        }
      ]
    },
    {
      "cell_type": "code",
      "source": [
        "from sklearn.model_selection import train_test_split,cross_validate\n",
        "\n",
        "from sklearn.tree import DecisionTreeClassifier\n",
        "\n",
        "from sklearn.metrics import accuracy_score,recall_score,precision_score,matthews_corrcoef,roc_auc_score,make_scorer,auc"
      ],
      "metadata": {
        "id": "S33RYxy0TJaR"
      },
      "execution_count": null,
      "outputs": []
    },
    {
      "cell_type": "code",
      "source": [
        "X_train, X_test, y_train, y_test = train_test_split(X, y, test_size=0.2, random_state=42)"
      ],
      "metadata": {
        "id": "xsDs2cOmTJgg"
      },
      "execution_count": null,
      "outputs": []
    },
    {
      "cell_type": "code",
      "source": [
        "from imblearn.over_sampling import SMOTE"
      ],
      "metadata": {
        "id": "mOVIKe2VTJiF"
      },
      "execution_count": null,
      "outputs": []
    },
    {
      "cell_type": "code",
      "source": [
        "y_train.value_counts()"
      ],
      "metadata": {
        "colab": {
          "base_uri": "https://localhost:8080/"
        },
        "id": "dmhFckcpUKWe",
        "outputId": "f4365293-9b2d-48ec-9488-7a0df2cb7320"
      },
      "execution_count": null,
      "outputs": [
        {
          "output_type": "execute_result",
          "data": {
            "text/plain": [
              "1    1732\n",
              "0     198\n",
              "Name: label, dtype: int64"
            ]
          },
          "metadata": {},
          "execution_count": 8
        }
      ]
    },
    {
      "cell_type": "code",
      "source": [
        "smote = SMOTE(random_state=42,sampling_strategy=0.5)"
      ],
      "metadata": {
        "id": "PGm7aGZTUKZD"
      },
      "execution_count": null,
      "outputs": []
    },
    {
      "cell_type": "code",
      "source": [
        "X_train,y_train = smote.fit_resample(X_train,y_train)"
      ],
      "metadata": {
        "id": "Zc5vGMoiUKdQ"
      },
      "execution_count": null,
      "outputs": []
    },
    {
      "cell_type": "code",
      "source": [
        "y_train.value_counts()"
      ],
      "metadata": {
        "colab": {
          "base_uri": "https://localhost:8080/"
        },
        "id": "pQDt9kmZUKfI",
        "outputId": "035fead2-6f21-408f-feac-84c311c6691c"
      },
      "execution_count": null,
      "outputs": [
        {
          "output_type": "execute_result",
          "data": {
            "text/plain": [
              "1    1732\n",
              "0     866\n",
              "Name: label, dtype: int64"
            ]
          },
          "metadata": {},
          "execution_count": 11
        }
      ]
    },
    {
      "cell_type": "code",
      "source": [
        "SN = make_scorer(recall_score)\n",
        "\n",
        "SP = make_scorer(recall_score,pos_label=0)\n",
        "\n",
        "\n",
        "Q = make_scorer(accuracy_score)\n",
        "\n",
        "MCC = make_scorer(matthews_corrcoef)\n",
        "\n",
        "\n",
        "scoring = {\"SN\":SN,\"SP\":SP,\"Q\":Q,\"MCC\":MCC}"
      ],
      "metadata": {
        "id": "LVpVVq4mUKjg"
      },
      "execution_count": null,
      "outputs": []
    },
    {
      "cell_type": "code",
      "source": [
        "dt = DecisionTreeClassifier()"
      ],
      "metadata": {
        "id": "1Aq6GJ57UKls"
      },
      "execution_count": null,
      "outputs": []
    },
    {
      "cell_type": "code",
      "source": [
        "cv_results = pd.DataFrame(cross_validate(dt,X_train,y_train,cv=10,scoring=scoring))"
      ],
      "metadata": {
        "id": "ff4qqKAhUKph"
      },
      "execution_count": null,
      "outputs": []
    },
    {
      "cell_type": "code",
      "source": [
        "cv_results.describe().T"
      ],
      "metadata": {
        "colab": {
          "base_uri": "https://localhost:8080/",
          "height": 237
        },
        "id": "uaRMRqimVBHM",
        "outputId": "4fea2880-3c99-4790-f158-12c244e0af5e"
      },
      "execution_count": null,
      "outputs": [
        {
          "output_type": "execute_result",
          "data": {
            "text/plain": [
              "            count      mean       std       min       25%       50%       75%  \\\n",
              "fit_time     10.0  0.078707  0.006386  0.072907  0.073679  0.076288  0.082006   \n",
              "score_time   10.0  0.008164  0.000238  0.007964  0.008015  0.008085  0.008207   \n",
              "test_SN      10.0  0.927247  0.024081  0.890173  0.909358  0.924855  0.948176   \n",
              "test_SP      10.0  0.895656  0.133686  0.604651  0.899258  0.959770  0.976945   \n",
              "test_Q       10.0  0.916874  0.048228  0.807692  0.902885  0.934489  0.941287   \n",
              "test_MCC     10.0  0.815715  0.115695  0.548883  0.789128  0.860013  0.874630   \n",
              "\n",
              "                 max  \n",
              "fit_time    0.091333  \n",
              "score_time  0.008762  \n",
              "test_SN     0.959538  \n",
              "test_SP     0.977011  \n",
              "test_Q      0.965385  \n",
              "test_MCC    0.924197  "
            ],
            "text/html": [
              "\n",
              "  <div id=\"df-d172a6d0-f75d-4a1e-908d-32601cb7f6e1\">\n",
              "    <div class=\"colab-df-container\">\n",
              "      <div>\n",
              "<style scoped>\n",
              "    .dataframe tbody tr th:only-of-type {\n",
              "        vertical-align: middle;\n",
              "    }\n",
              "\n",
              "    .dataframe tbody tr th {\n",
              "        vertical-align: top;\n",
              "    }\n",
              "\n",
              "    .dataframe thead th {\n",
              "        text-align: right;\n",
              "    }\n",
              "</style>\n",
              "<table border=\"1\" class=\"dataframe\">\n",
              "  <thead>\n",
              "    <tr style=\"text-align: right;\">\n",
              "      <th></th>\n",
              "      <th>count</th>\n",
              "      <th>mean</th>\n",
              "      <th>std</th>\n",
              "      <th>min</th>\n",
              "      <th>25%</th>\n",
              "      <th>50%</th>\n",
              "      <th>75%</th>\n",
              "      <th>max</th>\n",
              "    </tr>\n",
              "  </thead>\n",
              "  <tbody>\n",
              "    <tr>\n",
              "      <th>fit_time</th>\n",
              "      <td>10.0</td>\n",
              "      <td>0.078707</td>\n",
              "      <td>0.006386</td>\n",
              "      <td>0.072907</td>\n",
              "      <td>0.073679</td>\n",
              "      <td>0.076288</td>\n",
              "      <td>0.082006</td>\n",
              "      <td>0.091333</td>\n",
              "    </tr>\n",
              "    <tr>\n",
              "      <th>score_time</th>\n",
              "      <td>10.0</td>\n",
              "      <td>0.008164</td>\n",
              "      <td>0.000238</td>\n",
              "      <td>0.007964</td>\n",
              "      <td>0.008015</td>\n",
              "      <td>0.008085</td>\n",
              "      <td>0.008207</td>\n",
              "      <td>0.008762</td>\n",
              "    </tr>\n",
              "    <tr>\n",
              "      <th>test_SN</th>\n",
              "      <td>10.0</td>\n",
              "      <td>0.927247</td>\n",
              "      <td>0.024081</td>\n",
              "      <td>0.890173</td>\n",
              "      <td>0.909358</td>\n",
              "      <td>0.924855</td>\n",
              "      <td>0.948176</td>\n",
              "      <td>0.959538</td>\n",
              "    </tr>\n",
              "    <tr>\n",
              "      <th>test_SP</th>\n",
              "      <td>10.0</td>\n",
              "      <td>0.895656</td>\n",
              "      <td>0.133686</td>\n",
              "      <td>0.604651</td>\n",
              "      <td>0.899258</td>\n",
              "      <td>0.959770</td>\n",
              "      <td>0.976945</td>\n",
              "      <td>0.977011</td>\n",
              "    </tr>\n",
              "    <tr>\n",
              "      <th>test_Q</th>\n",
              "      <td>10.0</td>\n",
              "      <td>0.916874</td>\n",
              "      <td>0.048228</td>\n",
              "      <td>0.807692</td>\n",
              "      <td>0.902885</td>\n",
              "      <td>0.934489</td>\n",
              "      <td>0.941287</td>\n",
              "      <td>0.965385</td>\n",
              "    </tr>\n",
              "    <tr>\n",
              "      <th>test_MCC</th>\n",
              "      <td>10.0</td>\n",
              "      <td>0.815715</td>\n",
              "      <td>0.115695</td>\n",
              "      <td>0.548883</td>\n",
              "      <td>0.789128</td>\n",
              "      <td>0.860013</td>\n",
              "      <td>0.874630</td>\n",
              "      <td>0.924197</td>\n",
              "    </tr>\n",
              "  </tbody>\n",
              "</table>\n",
              "</div>\n",
              "      <button class=\"colab-df-convert\" onclick=\"convertToInteractive('df-d172a6d0-f75d-4a1e-908d-32601cb7f6e1')\"\n",
              "              title=\"Convert this dataframe to an interactive table.\"\n",
              "              style=\"display:none;\">\n",
              "        \n",
              "  <svg xmlns=\"http://www.w3.org/2000/svg\" height=\"24px\"viewBox=\"0 0 24 24\"\n",
              "       width=\"24px\">\n",
              "    <path d=\"M0 0h24v24H0V0z\" fill=\"none\"/>\n",
              "    <path d=\"M18.56 5.44l.94 2.06.94-2.06 2.06-.94-2.06-.94-.94-2.06-.94 2.06-2.06.94zm-11 1L8.5 8.5l.94-2.06 2.06-.94-2.06-.94L8.5 2.5l-.94 2.06-2.06.94zm10 10l.94 2.06.94-2.06 2.06-.94-2.06-.94-.94-2.06-.94 2.06-2.06.94z\"/><path d=\"M17.41 7.96l-1.37-1.37c-.4-.4-.92-.59-1.43-.59-.52 0-1.04.2-1.43.59L10.3 9.45l-7.72 7.72c-.78.78-.78 2.05 0 2.83L4 21.41c.39.39.9.59 1.41.59.51 0 1.02-.2 1.41-.59l7.78-7.78 2.81-2.81c.8-.78.8-2.07 0-2.86zM5.41 20L4 18.59l7.72-7.72 1.47 1.35L5.41 20z\"/>\n",
              "  </svg>\n",
              "      </button>\n",
              "      \n",
              "  <style>\n",
              "    .colab-df-container {\n",
              "      display:flex;\n",
              "      flex-wrap:wrap;\n",
              "      gap: 12px;\n",
              "    }\n",
              "\n",
              "    .colab-df-convert {\n",
              "      background-color: #E8F0FE;\n",
              "      border: none;\n",
              "      border-radius: 50%;\n",
              "      cursor: pointer;\n",
              "      display: none;\n",
              "      fill: #1967D2;\n",
              "      height: 32px;\n",
              "      padding: 0 0 0 0;\n",
              "      width: 32px;\n",
              "    }\n",
              "\n",
              "    .colab-df-convert:hover {\n",
              "      background-color: #E2EBFA;\n",
              "      box-shadow: 0px 1px 2px rgba(60, 64, 67, 0.3), 0px 1px 3px 1px rgba(60, 64, 67, 0.15);\n",
              "      fill: #174EA6;\n",
              "    }\n",
              "\n",
              "    [theme=dark] .colab-df-convert {\n",
              "      background-color: #3B4455;\n",
              "      fill: #D2E3FC;\n",
              "    }\n",
              "\n",
              "    [theme=dark] .colab-df-convert:hover {\n",
              "      background-color: #434B5C;\n",
              "      box-shadow: 0px 1px 3px 1px rgba(0, 0, 0, 0.15);\n",
              "      filter: drop-shadow(0px 1px 2px rgba(0, 0, 0, 0.3));\n",
              "      fill: #FFFFFF;\n",
              "    }\n",
              "  </style>\n",
              "\n",
              "      <script>\n",
              "        const buttonEl =\n",
              "          document.querySelector('#df-d172a6d0-f75d-4a1e-908d-32601cb7f6e1 button.colab-df-convert');\n",
              "        buttonEl.style.display =\n",
              "          google.colab.kernel.accessAllowed ? 'block' : 'none';\n",
              "\n",
              "        async function convertToInteractive(key) {\n",
              "          const element = document.querySelector('#df-d172a6d0-f75d-4a1e-908d-32601cb7f6e1');\n",
              "          const dataTable =\n",
              "            await google.colab.kernel.invokeFunction('convertToInteractive',\n",
              "                                                     [key], {});\n",
              "          if (!dataTable) return;\n",
              "\n",
              "          const docLinkHtml = 'Like what you see? Visit the ' +\n",
              "            '<a target=\"_blank\" href=https://colab.research.google.com/notebooks/data_table.ipynb>data table notebook</a>'\n",
              "            + ' to learn more about interactive tables.';\n",
              "          element.innerHTML = '';\n",
              "          dataTable['output_type'] = 'display_data';\n",
              "          await google.colab.output.renderOutput(dataTable, element);\n",
              "          const docLink = document.createElement('div');\n",
              "          docLink.innerHTML = docLinkHtml;\n",
              "          element.appendChild(docLink);\n",
              "        }\n",
              "      </script>\n",
              "    </div>\n",
              "  </div>\n",
              "  "
            ]
          },
          "metadata": {},
          "execution_count": 18
        }
      ]
    },
    {
      "cell_type": "code",
      "source": [
        "dt.fit(X_train,y_train)\n",
        "\n",
        "yHat_train= dt.predict(X_train)\n",
        "\n",
        "yHat_test = dt.predict(X_test)\n",
        "\n"
      ],
      "metadata": {
        "id": "Ek7jKjhSVBIx"
      },
      "execution_count": null,
      "outputs": []
    },
    {
      "cell_type": "code",
      "source": [
        "print(recall_score(y_train,yHat_train)) #SN\n",
        "print(recall_score(y_train,yHat_train,pos_label=0)) #SP\n",
        "print(matthews_corrcoef(y_train,yHat_train)) #MCC\n",
        "print(accuracy_score(y_train,yHat_train)) # Q"
      ],
      "metadata": {
        "id": "_DwC0ejdVkK5",
        "outputId": "602c4b65-0f28-4a0f-9f5d-f48dc268cba3",
        "colab": {
          "base_uri": "https://localhost:8080/"
        }
      },
      "execution_count": null,
      "outputs": [
        {
          "output_type": "stream",
          "name": "stdout",
          "text": [
            "0.9913394919168591\n",
            "0.9942263279445728\n",
            "0.9827654875078744\n",
            "0.9923017705927637\n"
          ]
        }
      ]
    },
    {
      "cell_type": "code",
      "source": [
        "print(recall_score(y_test,yHat_test))\n",
        "print(recall_score(y_test,yHat_test,pos_label=0))\n",
        "print(matthews_corrcoef(y_test,yHat_test))\n",
        "print(accuracy_score(y_test,yHat_test))\n",
        "print(roc_auc_score(y_test,dt.predict_proba(X_test)[:, 1]))\n"
      ],
      "metadata": {
        "id": "DjOPWBQEVkM-",
        "outputId": "32c81cfc-8115-46fd-f746-8604fd5f0849",
        "colab": {
          "base_uri": "https://localhost:8080/"
        }
      },
      "execution_count": null,
      "outputs": [
        {
          "output_type": "stream",
          "name": "stdout",
          "text": [
            "0.896551724137931\n",
            "0.5833333333333334\n",
            "0.4008197528841452\n",
            "0.865424430641822\n",
            "0.7471503831417624\n"
          ]
        }
      ]
    },
    {
      "cell_type": "code",
      "source": [
        "from sklearn.metrics import RocCurveDisplay, confusion_matrix, ConfusionMatrixDisplay,classification_report"
      ],
      "metadata": {
        "id": "QtIv7RV9VkQJ"
      },
      "execution_count": null,
      "outputs": []
    },
    {
      "cell_type": "code",
      "source": [
        "import matplotlib.pyplot as plt\n"
      ],
      "metadata": {
        "id": "025teItiVkSH"
      },
      "execution_count": null,
      "outputs": []
    },
    {
      "cell_type": "code",
      "source": [
        "\n",
        "\n",
        "RocCurveDisplay.from_estimator(dt,X_test,y_test)\n",
        "plt.plot([0,1],[0,1],\"--k\")\n",
        "\n",
        "plt.xlabel(\"FPR\",weight=\"bold\",size=14)\n",
        "plt.ylabel(\"TPR\",weight=\"bold\",size=14)\n",
        "plt.xticks(size=12)\n",
        "plt.yticks(size=12)\n",
        "\n",
        "\n",
        "plt.title(\"PubchemFP Dataset\",weight=\"bold\")\n",
        "legend_properties = {'weight':'bold'}\n",
        "\n",
        "\n",
        "plt.legend([\"AUC = 0.87\"],prop=legend_properties,loc=\"lower right\")\n",
        "\n",
        "plt.savefig(\"PubchemFP ROC.tiff\",dpi=300)\n",
        "\n",
        "plt.show()\n"
      ],
      "metadata": {
        "id": "0FCrGmLnVkWi",
        "outputId": "0c15dd23-f0de-4f5c-e065-c2ac483f5e9a",
        "colab": {
          "base_uri": "https://localhost:8080/",
          "height": 302
        }
      },
      "execution_count": null,
      "outputs": [
        {
          "output_type": "display_data",
          "data": {
            "text/plain": [
              "<Figure size 432x288 with 1 Axes>"
            ],
            "image/png": "[encoded data removed]"
          },
          "metadata": {
            "needs_background": "light"
          }
        }
      ]
    },
    {
      "cell_type": "code",
      "source": [
        "### Desicion tree with balance"
      ],
      "metadata": {
        "id": "vrA_BtRbVkZo"
      },
      "execution_count": null,
      "outputs": []
    },
    {
      "cell_type": "code",
      "source": [
        "dtc = DecisionTreeClassifier(class_weight=\"balanced\",random_state=42)"
      ],
      "metadata": {
        "id": "BXygZn_uVBPd"
      },
      "execution_count": null,
      "outputs": []
    },
    {
      "cell_type": "code",
      "source": [
        "cv_results = pd.DataFrame(cross_validate(dt,X_train,y_train,cv=10,scoring=scoring))"
      ],
      "metadata": {
        "id": "NGhCS5bKVBRA"
      },
      "execution_count": null,
      "outputs": []
    },
    {
      "cell_type": "code",
      "source": [
        "cv_results.describe().T"
      ],
      "metadata": {
        "id": "y9TOwriAYlHX",
        "outputId": "a4d73dc0-8b2f-4bcf-f308-d9051746a5c1",
        "colab": {
          "base_uri": "https://localhost:8080/",
          "height": 237
        }
      },
      "execution_count": null,
      "outputs": [
        {
          "output_type": "execute_result",
          "data": {
            "text/plain": [
              "            count      mean       std       min       25%       50%       75%  \\\n",
              "fit_time     10.0  0.078864  0.006064  0.072349  0.074707  0.077273  0.082883   \n",
              "score_time   10.0  0.008522  0.000744  0.008026  0.008111  0.008231  0.008543   \n",
              "test_SN      10.0  0.928978  0.021443  0.901734  0.914740  0.921965  0.947977   \n",
              "test_SP      10.0  0.894493  0.132837  0.604651  0.902165  0.953756  0.974138   \n",
              "test_Q       10.0  0.917642  0.046637  0.807692  0.911538  0.932559  0.937322   \n",
              "test_MCC     10.0  0.817126  0.112419  0.548883  0.806531  0.855071  0.865318   \n",
              "\n",
              "                 max  \n",
              "fit_time    0.091058  \n",
              "score_time  0.010466  \n",
              "test_SN     0.959770  \n",
              "test_SP     0.977011  \n",
              "test_Q      0.965385  \n",
              "test_MCC    0.924197  "
            ],
            "text/html": [
              "\n",
              "  <div id=\"df-6e47c025-4393-4738-b266-71ea570a9143\">\n",
              "    <div class=\"colab-df-container\">\n",
              "      <div>\n",
              "<style scoped>\n",
              "    .dataframe tbody tr th:only-of-type {\n",
              "        vertical-align: middle;\n",
              "    }\n",
              "\n",
              "    .dataframe tbody tr th {\n",
              "        vertical-align: top;\n",
              "    }\n",
              "\n",
              "    .dataframe thead th {\n",
              "        text-align: right;\n",
              "    }\n",
              "</style>\n",
              "<table border=\"1\" class=\"dataframe\">\n",
              "  <thead>\n",
              "    <tr style=\"text-align: right;\">\n",
              "      <th></th>\n",
              "      <th>count</th>\n",
              "      <th>mean</th>\n",
              "      <th>std</th>\n",
              "      <th>min</th>\n",
              "      <th>25%</th>\n",
              "      <th>50%</th>\n",
              "      <th>75%</th>\n",
              "      <th>max</th>\n",
              "    </tr>\n",
              "  </thead>\n",
              "  <tbody>\n",
              "    <tr>\n",
              "      <th>fit_time</th>\n",
              "      <td>10.0</td>\n",
              "      <td>0.078864</td>\n",
              "      <td>0.006064</td>\n",
              "      <td>0.072349</td>\n",
              "      <td>0.074707</td>\n",
              "      <td>0.077273</td>\n",
              "      <td>0.082883</td>\n",
              "      <td>0.091058</td>\n",
              "    </tr>\n",
              "    <tr>\n",
              "      <th>score_time</th>\n",
              "      <td>10.0</td>\n",
              "      <td>0.008522</td>\n",
              "      <td>0.000744</td>\n",
              "      <td>0.008026</td>\n",
              "      <td>0.008111</td>\n",
              "      <td>0.008231</td>\n",
              "      <td>0.008543</td>\n",
              "      <td>0.010466</td>\n",
              "    </tr>\n",
              "    <tr>\n",
              "      <th>test_SN</th>\n",
              "      <td>10.0</td>\n",
              "      <td>0.928978</td>\n",
              "      <td>0.021443</td>\n",
              "      <td>0.901734</td>\n",
              "      <td>0.914740</td>\n",
              "      <td>0.921965</td>\n",
              "      <td>0.947977</td>\n",
              "      <td>0.959770</td>\n",
              "    </tr>\n",
              "    <tr>\n",
              "      <th>test_SP</th>\n",
              "      <td>10.0</td>\n",
              "      <td>0.894493</td>\n",
              "      <td>0.132837</td>\n",
              "      <td>0.604651</td>\n",
              "      <td>0.902165</td>\n",
              "      <td>0.953756</td>\n",
              "      <td>0.974138</td>\n",
              "      <td>0.977011</td>\n",
              "    </tr>\n",
              "    <tr>\n",
              "      <th>test_Q</th>\n",
              "      <td>10.0</td>\n",
              "      <td>0.917642</td>\n",
              "      <td>0.046637</td>\n",
              "      <td>0.807692</td>\n",
              "      <td>0.911538</td>\n",
              "      <td>0.932559</td>\n",
              "      <td>0.937322</td>\n",
              "      <td>0.965385</td>\n",
              "    </tr>\n",
              "    <tr>\n",
              "      <th>test_MCC</th>\n",
              "      <td>10.0</td>\n",
              "      <td>0.817126</td>\n",
              "      <td>0.112419</td>\n",
              "      <td>0.548883</td>\n",
              "      <td>0.806531</td>\n",
              "      <td>0.855071</td>\n",
              "      <td>0.865318</td>\n",
              "      <td>0.924197</td>\n",
              "    </tr>\n",
              "  </tbody>\n",
              "</table>\n",
              "</div>\n",
              "      <button class=\"colab-df-convert\" onclick=\"convertToInteractive('df-6e47c025-4393-4738-b266-71ea570a9143')\"\n",
              "              title=\"Convert this dataframe to an interactive table.\"\n",
              "              style=\"display:none;\">\n",
              "        \n",
              "  <svg xmlns=\"http://www.w3.org/2000/svg\" height=\"24px\"viewBox=\"0 0 24 24\"\n",
              "       width=\"24px\">\n",
              "    <path d=\"M0 0h24v24H0V0z\" fill=\"none\"/>\n",
              "    <path d=\"M18.56 5.44l.94 2.06.94-2.06 2.06-.94-2.06-.94-.94-2.06-.94 2.06-2.06.94zm-11 1L8.5 8.5l.94-2.06 2.06-.94-2.06-.94L8.5 2.5l-.94 2.06-2.06.94zm10 10l.94 2.06.94-2.06 2.06-.94-2.06-.94-.94-2.06-.94 2.06-2.06.94z\"/><path d=\"M17.41 7.96l-1.37-1.37c-.4-.4-.92-.59-1.43-.59-.52 0-1.04.2-1.43.59L10.3 9.45l-7.72 7.72c-.78.78-.78 2.05 0 2.83L4 21.41c.39.39.9.59 1.41.59.51 0 1.02-.2 1.41-.59l7.78-7.78 2.81-2.81c.8-.78.8-2.07 0-2.86zM5.41 20L4 18.59l7.72-7.72 1.47 1.35L5.41 20z\"/>\n",
              "  </svg>\n",
              "      </button>\n",
              "      \n",
              "  <style>\n",
              "    .colab-df-container {\n",
              "      display:flex;\n",
              "      flex-wrap:wrap;\n",
              "      gap: 12px;\n",
              "    }\n",
              "\n",
              "    .colab-df-convert {\n",
              "      background-color: #E8F0FE;\n",
              "      border: none;\n",
              "      border-radius: 50%;\n",
              "      cursor: pointer;\n",
              "      display: none;\n",
              "      fill: #1967D2;\n",
              "      height: 32px;\n",
              "      padding: 0 0 0 0;\n",
              "      width: 32px;\n",
              "    }\n",
              "\n",
              "    .colab-df-convert:hover {\n",
              "      background-color: #E2EBFA;\n",
              "      box-shadow: 0px 1px 2px rgba(60, 64, 67, 0.3), 0px 1px 3px 1px rgba(60, 64, 67, 0.15);\n",
              "      fill: #174EA6;\n",
              "    }\n",
              "\n",
              "    [theme=dark] .colab-df-convert {\n",
              "      background-color: #3B4455;\n",
              "      fill: #D2E3FC;\n",
              "    }\n",
              "\n",
              "    [theme=dark] .colab-df-convert:hover {\n",
              "      background-color: #434B5C;\n",
              "      box-shadow: 0px 1px 3px 1px rgba(0, 0, 0, 0.15);\n",
              "      filter: drop-shadow(0px 1px 2px rgba(0, 0, 0, 0.3));\n",
              "      fill: #FFFFFF;\n",
              "    }\n",
              "  </style>\n",
              "\n",
              "      <script>\n",
              "        const buttonEl =\n",
              "          document.querySelector('#df-6e47c025-4393-4738-b266-71ea570a9143 button.colab-df-convert');\n",
              "        buttonEl.style.display =\n",
              "          google.colab.kernel.accessAllowed ? 'block' : 'none';\n",
              "\n",
              "        async function convertToInteractive(key) {\n",
              "          const element = document.querySelector('#df-6e47c025-4393-4738-b266-71ea570a9143');\n",
              "          const dataTable =\n",
              "            await google.colab.kernel.invokeFunction('convertToInteractive',\n",
              "                                                     [key], {});\n",
              "          if (!dataTable) return;\n",
              "\n",
              "          const docLinkHtml = 'Like what you see? Visit the ' +\n",
              "            '<a target=\"_blank\" href=https://colab.research.google.com/notebooks/data_table.ipynb>data table notebook</a>'\n",
              "            + ' to learn more about interactive tables.';\n",
              "          element.innerHTML = '';\n",
              "          dataTable['output_type'] = 'display_data';\n",
              "          await google.colab.output.renderOutput(dataTable, element);\n",
              "          const docLink = document.createElement('div');\n",
              "          docLink.innerHTML = docLinkHtml;\n",
              "          element.appendChild(docLink);\n",
              "        }\n",
              "      </script>\n",
              "    </div>\n",
              "  </div>\n",
              "  "
            ]
          },
          "metadata": {},
          "execution_count": 51
        }
      ]
    },
    {
      "cell_type": "code",
      "source": [
        "dt.fit(X_train,y_train)"
      ],
      "metadata": {
        "id": "aU9Ngs1OYlI3",
        "outputId": "b936f7fe-dc7c-4c9d-c59c-1227e169753e",
        "colab": {
          "base_uri": "https://localhost:8080/"
        }
      },
      "execution_count": null,
      "outputs": [
        {
          "output_type": "execute_result",
          "data": {
            "text/plain": [
              "DecisionTreeClassifier()"
            ]
          },
          "metadata": {},
          "execution_count": 52
        }
      ]
    },
    {
      "cell_type": "code",
      "source": [
        "yHat_train= dt.predict(X_train)\n",
        "\n",
        "yHat_test = dt.predict(X_test)\n",
        "\n"
      ],
      "metadata": {
        "id": "hJuPt88HYlNA"
      },
      "execution_count": null,
      "outputs": []
    },
    {
      "cell_type": "code",
      "source": [
        "print(recall_score(y_train,yHat_train)) #SN\n",
        "print(recall_score(y_train,yHat_train,pos_label=0)) #SP\n",
        "print(matthews_corrcoef(y_train,yHat_train)) #MCC\n",
        "print(accuracy_score(y_train,yHat_train)) # Q\n"
      ],
      "metadata": {
        "id": "Ye48_eimYlOp",
        "outputId": "908c26ba-01f0-4dae-ee1c-0bae1fb2c5ca",
        "colab": {
          "base_uri": "https://localhost:8080/"
        }
      },
      "execution_count": null,
      "outputs": [
        {
          "output_type": "stream",
          "name": "stdout",
          "text": [
            "0.9913394919168591\n",
            "0.9942263279445728\n",
            "0.9827654875078744\n",
            "0.9923017705927637\n"
          ]
        }
      ]
    },
    {
      "cell_type": "code",
      "source": [
        "print(recall_score(y_test,yHat_test))\n",
        "print(recall_score(y_test,yHat_test,pos_label=0))\n",
        "print(matthews_corrcoef(y_test,yHat_test))\n",
        "print(accuracy_score(y_test,yHat_test))\n"
      ],
      "metadata": {
        "id": "lIEivb68YlSl",
        "outputId": "05198fc1-a1eb-4b99-bc1d-c60a92ad4733",
        "colab": {
          "base_uri": "https://localhost:8080/"
        }
      },
      "execution_count": null,
      "outputs": [
        {
          "output_type": "stream",
          "name": "stdout",
          "text": [
            "0.8988505747126436\n",
            "0.5625\n",
            "0.3897790840773906\n",
            "0.865424430641822\n"
          ]
        }
      ]
    },
    {
      "cell_type": "code",
      "source": [
        "from sklearn.metrics import RocCurveDisplay"
      ],
      "metadata": {
        "id": "xl4dNXd3YlUo"
      },
      "execution_count": null,
      "outputs": []
    },
    {
      "cell_type": "code",
      "source": [
        "RocCurveDisplay.from_estimator(dt,X_test,y_test)"
      ],
      "metadata": {
        "id": "KusOfD90YlXz",
        "outputId": "88753f7b-f3c2-4d7e-b04f-d78b49f13b73",
        "colab": {
          "base_uri": "https://localhost:8080/",
          "height": 296
        }
      },
      "execution_count": null,
      "outputs": [
        {
          "output_type": "execute_result",
          "data": {
            "text/plain": [
              "<sklearn.metrics._plot.roc_curve.RocCurveDisplay at 0x7f2adabdf7f0>"
            ]
          },
          "metadata": {},
          "execution_count": 57
        },
        {
          "output_type": "display_data",
          "data": {
            "text/plain": [
              "<Figure size 432x288 with 1 Axes>"
            ],
            "image/png": "[encoded data removed]"
          },
          "metadata": {
            "needs_background": "light"
          }
        }
      ]
    },
    {
      "cell_type": "code",
      "source": [
        "from sklearn.tree import plot_tree"
      ],
      "metadata": {
        "id": "1l74RQn6YlZw"
      },
      "execution_count": null,
      "outputs": []
    },
    {
      "cell_type": "code",
      "source": [
        "from matplotlib import pyplot as plt\n"
      ],
      "metadata": {
        "id": "BMtgrLsDZbok"
      },
      "execution_count": null,
      "outputs": []
    },
    {
      "cell_type": "code",
      "source": [
        "###svm with smote"
      ],
      "metadata": {
        "id": "cnGStYRBZbqU"
      },
      "execution_count": null,
      "outputs": []
    },
    {
      "cell_type": "code",
      "source": [],
      "metadata": {
        "id": "s6vX0jA0Zbt-"
      },
      "execution_count": null,
      "outputs": []
    },
    {
      "cell_type": "code",
      "source": [
        "df = pd.read_csv(\"PubChemFP_best.csv\")\n",
        "\n",
        "\n",
        "X = df.drop(\"label\",axis=1)\n",
        "\n",
        "y = df[\"label\"]"
      ],
      "metadata": {
        "id": "UAAeqgB7ZbwE"
      },
      "execution_count": null,
      "outputs": []
    },
    {
      "cell_type": "code",
      "source": [
        "X.to_csv(\"Pubchem_features.csv\",index=None)"
      ],
      "metadata": {
        "id": "cYkkRouiZby_"
      },
      "execution_count": null,
      "outputs": []
    },
    {
      "cell_type": "code",
      "source": [
        "X.head()"
      ],
      "metadata": {
        "id": "qGOi7OHmZb03",
        "outputId": "31cd4a73-58f3-41bb-edfa-0f61a44170bc",
        "colab": {
          "base_uri": "https://localhost:8080/",
          "height": 299
        }
      },
      "execution_count": null,
      "outputs": [
        {
          "output_type": "execute_result",
          "data": {
            "text/plain": [
              "   PubchemFP1  PubchemFP2  PubchemFP3  PubchemFP12  PubchemFP13  PubchemFP15  \\\n",
              "0           1           1           1            1            0            1   \n",
              "1           1           0           0            1            0            1   \n",
              "2           1           0           0            1            0            1   \n",
              "3           1           1           0            1            0            1   \n",
              "4           1           1           0            1            0            1   \n",
              "\n",
              "   PubchemFP16  PubchemFP17  PubchemFP18  PubchemFP19  ...  PubchemFP828  \\\n",
              "0            1            0            1            1  ...             0   \n",
              "1            0            0            1            1  ...             0   \n",
              "2            0            0            1            1  ...             0   \n",
              "3            1            0            1            1  ...             0   \n",
              "4            1            0            1            1  ...             0   \n",
              "\n",
              "   PubchemFP830  PubchemFP831  PubchemFP833  PubchemFP834  PubchemFP836  \\\n",
              "0             1             0             0             0             0   \n",
              "1             0             0             0             0             0   \n",
              "2             0             0             0             0             0   \n",
              "3             0             0             0             0             0   \n",
              "4             0             0             0             0             0   \n",
              "\n",
              "   PubchemFP842  PubchemFP860  PubchemFP863  PubchemFP868  \n",
              "0             0             0             0             0  \n",
              "1             0             0             0             0  \n",
              "2             0             0             0             0  \n",
              "3             0             0             0             0  \n",
              "4             0             0             0             0  \n",
              "\n",
              "[5 rows x 554 columns]"
            ],
            "text/html": [
              "\n",
              "  <div id=\"df-1a78a87b-c7b4-44da-8ed2-a5b5047327d3\">\n",
              "    <div class=\"colab-df-container\">\n",
              "      <div>\n",
              "<style scoped>\n",
              "    .dataframe tbody tr th:only-of-type {\n",
              "        vertical-align: middle;\n",
              "    }\n",
              "\n",
              "    .dataframe tbody tr th {\n",
              "        vertical-align: top;\n",
              "    }\n",
              "\n",
              "    .dataframe thead th {\n",
              "        text-align: right;\n",
              "    }\n",
              "</style>\n",
              "<table border=\"1\" class=\"dataframe\">\n",
              "  <thead>\n",
              "    <tr style=\"text-align: right;\">\n",
              "      <th></th>\n",
              "      <th>PubchemFP1</th>\n",
              "      <th>PubchemFP2</th>\n",
              "      <th>PubchemFP3</th>\n",
              "      <th>PubchemFP12</th>\n",
              "      <th>PubchemFP13</th>\n",
              "      <th>PubchemFP15</th>\n",
              "      <th>PubchemFP16</th>\n",
              "      <th>PubchemFP17</th>\n",
              "      <th>PubchemFP18</th>\n",
              "      <th>PubchemFP19</th>\n",
              "      <th>...</th>\n",
              "      <th>PubchemFP828</th>\n",
              "      <th>PubchemFP830</th>\n",
              "      <th>PubchemFP831</th>\n",
              "      <th>PubchemFP833</th>\n",
              "      <th>PubchemFP834</th>\n",
              "      <th>PubchemFP836</th>\n",
              "      <th>PubchemFP842</th>\n",
              "      <th>PubchemFP860</th>\n",
              "      <th>PubchemFP863</th>\n",
              "      <th>PubchemFP868</th>\n",
              "    </tr>\n",
              "  </thead>\n",
              "  <tbody>\n",
              "    <tr>\n",
              "      <th>0</th>\n",
              "      <td>1</td>\n",
              "      <td>1</td>\n",
              "      <td>1</td>\n",
              "      <td>1</td>\n",
              "      <td>0</td>\n",
              "      <td>1</td>\n",
              "      <td>1</td>\n",
              "      <td>0</td>\n",
              "      <td>1</td>\n",
              "      <td>1</td>\n",
              "      <td>...</td>\n",
              "      <td>0</td>\n",
              "      <td>1</td>\n",
              "      <td>0</td>\n",
              "      <td>0</td>\n",
              "      <td>0</td>\n",
              "      <td>0</td>\n",
              "      <td>0</td>\n",
              "      <td>0</td>\n",
              "      <td>0</td>\n",
              "      <td>0</td>\n",
              "    </tr>\n",
              "    <tr>\n",
              "      <th>1</th>\n",
              "      <td>1</td>\n",
              "      <td>0</td>\n",
              "      <td>0</td>\n",
              "      <td>1</td>\n",
              "      <td>0</td>\n",
              "      <td>1</td>\n",
              "      <td>0</td>\n",
              "      <td>0</td>\n",
              "      <td>1</td>\n",
              "      <td>1</td>\n",
              "      <td>...</td>\n",
              "      <td>0</td>\n",
              "      <td>0</td>\n",
              "      <td>0</td>\n",
              "      <td>0</td>\n",
              "      <td>0</td>\n",
              "      <td>0</td>\n",
              "      <td>0</td>\n",
              "      <td>0</td>\n",
              "      <td>0</td>\n",
              "      <td>0</td>\n",
              "    </tr>\n",
              "    <tr>\n",
              "      <th>2</th>\n",
              "      <td>1</td>\n",
              "      <td>0</td>\n",
              "      <td>0</td>\n",
              "      <td>1</td>\n",
              "      <td>0</td>\n",
              "      <td>1</td>\n",
              "      <td>0</td>\n",
              "      <td>0</td>\n",
              "      <td>1</td>\n",
              "      <td>1</td>\n",
              "      <td>...</td>\n",
              "      <td>0</td>\n",
              "      <td>0</td>\n",
              "      <td>0</td>\n",
              "      <td>0</td>\n",
              "      <td>0</td>\n",
              "      <td>0</td>\n",
              "      <td>0</td>\n",
              "      <td>0</td>\n",
              "      <td>0</td>\n",
              "      <td>0</td>\n",
              "    </tr>\n",
              "    <tr>\n",
              "      <th>3</th>\n",
              "      <td>1</td>\n",
              "      <td>1</td>\n",
              "      <td>0</td>\n",
              "      <td>1</td>\n",
              "      <td>0</td>\n",
              "      <td>1</td>\n",
              "      <td>1</td>\n",
              "      <td>0</td>\n",
              "      <td>1</td>\n",
              "      <td>1</td>\n",
              "      <td>...</td>\n",
              "      <td>0</td>\n",
              "      <td>0</td>\n",
              "      <td>0</td>\n",
              "      <td>0</td>\n",
              "      <td>0</td>\n",
              "      <td>0</td>\n",
              "      <td>0</td>\n",
              "      <td>0</td>\n",
              "      <td>0</td>\n",
              "      <td>0</td>\n",
              "    </tr>\n",
              "    <tr>\n",
              "      <th>4</th>\n",
              "      <td>1</td>\n",
              "      <td>1</td>\n",
              "      <td>0</td>\n",
              "      <td>1</td>\n",
              "      <td>0</td>\n",
              "      <td>1</td>\n",
              "      <td>1</td>\n",
              "      <td>0</td>\n",
              "      <td>1</td>\n",
              "      <td>1</td>\n",
              "      <td>...</td>\n",
              "      <td>0</td>\n",
              "      <td>0</td>\n",
              "      <td>0</td>\n",
              "      <td>0</td>\n",
              "      <td>0</td>\n",
              "      <td>0</td>\n",
              "      <td>0</td>\n",
              "      <td>0</td>\n",
              "      <td>0</td>\n",
              "      <td>0</td>\n",
              "    </tr>\n",
              "  </tbody>\n",
              "</table>\n",
              "<p>5 rows × 554 columns</p>\n",
              "</div>\n",
              "      <button class=\"colab-df-convert\" onclick=\"convertToInteractive('df-1a78a87b-c7b4-44da-8ed2-a5b5047327d3')\"\n",
              "              title=\"Convert this dataframe to an interactive table.\"\n",
              "              style=\"display:none;\">\n",
              "        \n",
              "  <svg xmlns=\"http://www.w3.org/2000/svg\" height=\"24px\"viewBox=\"0 0 24 24\"\n",
              "       width=\"24px\">\n",
              "    <path d=\"M0 0h24v24H0V0z\" fill=\"none\"/>\n",
              "    <path d=\"M18.56 5.44l.94 2.06.94-2.06 2.06-.94-2.06-.94-.94-2.06-.94 2.06-2.06.94zm-11 1L8.5 8.5l.94-2.06 2.06-.94-2.06-.94L8.5 2.5l-.94 2.06-2.06.94zm10 10l.94 2.06.94-2.06 2.06-.94-2.06-.94-.94-2.06-.94 2.06-2.06.94z\"/><path d=\"M17.41 7.96l-1.37-1.37c-.4-.4-.92-.59-1.43-.59-.52 0-1.04.2-1.43.59L10.3 9.45l-7.72 7.72c-.78.78-.78 2.05 0 2.83L4 21.41c.39.39.9.59 1.41.59.51 0 1.02-.2 1.41-.59l7.78-7.78 2.81-2.81c.8-.78.8-2.07 0-2.86zM5.41 20L4 18.59l7.72-7.72 1.47 1.35L5.41 20z\"/>\n",
              "  </svg>\n",
              "      </button>\n",
              "      \n",
              "  <style>\n",
              "    .colab-df-container {\n",
              "      display:flex;\n",
              "      flex-wrap:wrap;\n",
              "      gap: 12px;\n",
              "    }\n",
              "\n",
              "    .colab-df-convert {\n",
              "      background-color: #E8F0FE;\n",
              "      border: none;\n",
              "      border-radius: 50%;\n",
              "      cursor: pointer;\n",
              "      display: none;\n",
              "      fill: #1967D2;\n",
              "      height: 32px;\n",
              "      padding: 0 0 0 0;\n",
              "      width: 32px;\n",
              "    }\n",
              "\n",
              "    .colab-df-convert:hover {\n",
              "      background-color: #E2EBFA;\n",
              "      box-shadow: 0px 1px 2px rgba(60, 64, 67, 0.3), 0px 1px 3px 1px rgba(60, 64, 67, 0.15);\n",
              "      fill: #174EA6;\n",
              "    }\n",
              "\n",
              "    [theme=dark] .colab-df-convert {\n",
              "      background-color: #3B4455;\n",
              "      fill: #D2E3FC;\n",
              "    }\n",
              "\n",
              "    [theme=dark] .colab-df-convert:hover {\n",
              "      background-color: #434B5C;\n",
              "      box-shadow: 0px 1px 3px 1px rgba(0, 0, 0, 0.15);\n",
              "      filter: drop-shadow(0px 1px 2px rgba(0, 0, 0, 0.3));\n",
              "      fill: #FFFFFF;\n",
              "    }\n",
              "  </style>\n",
              "\n",
              "      <script>\n",
              "        const buttonEl =\n",
              "          document.querySelector('#df-1a78a87b-c7b4-44da-8ed2-a5b5047327d3 button.colab-df-convert');\n",
              "        buttonEl.style.display =\n",
              "          google.colab.kernel.accessAllowed ? 'block' : 'none';\n",
              "\n",
              "        async function convertToInteractive(key) {\n",
              "          const element = document.querySelector('#df-1a78a87b-c7b4-44da-8ed2-a5b5047327d3');\n",
              "          const dataTable =\n",
              "            await google.colab.kernel.invokeFunction('convertToInteractive',\n",
              "                                                     [key], {});\n",
              "          if (!dataTable) return;\n",
              "\n",
              "          const docLinkHtml = 'Like what you see? Visit the ' +\n",
              "            '<a target=\"_blank\" href=https://colab.research.google.com/notebooks/data_table.ipynb>data table notebook</a>'\n",
              "            + ' to learn more about interactive tables.';\n",
              "          element.innerHTML = '';\n",
              "          dataTable['output_type'] = 'display_data';\n",
              "          await google.colab.output.renderOutput(dataTable, element);\n",
              "          const docLink = document.createElement('div');\n",
              "          docLink.innerHTML = docLinkHtml;\n",
              "          element.appendChild(docLink);\n",
              "        }\n",
              "      </script>\n",
              "    </div>\n",
              "  </div>\n",
              "  "
            ]
          },
          "metadata": {},
          "execution_count": 47
        }
      ]
    },
    {
      "cell_type": "code",
      "source": [
        "from sklearn.model_selection import train_test_split,cross_validate\n",
        "from sklearn import svm\n",
        "from sklearn import metrics\n",
        "from sklearn.metrics import accuracy_score,recall_score,precision_score,matthews_corrcoef,roc_auc_score,make_scorer,auc\n"
      ],
      "metadata": {
        "id": "4_X1jl7kbvCN"
      },
      "execution_count": null,
      "outputs": []
    },
    {
      "cell_type": "code",
      "source": [
        "X_train, X_test, y_train, y_test = train_test_split(X, y, test_size=0.2, random_state=42)"
      ],
      "metadata": {
        "id": "xDKap8q8bvD3"
      },
      "execution_count": null,
      "outputs": []
    },
    {
      "cell_type": "code",
      "source": [
        "from imblearn.over_sampling import SMOTE"
      ],
      "metadata": {
        "id": "pu5bbmJ_bvIX"
      },
      "execution_count": null,
      "outputs": []
    },
    {
      "cell_type": "code",
      "source": [
        "y_train.value_counts()"
      ],
      "metadata": {
        "id": "E11n0BkgbvKM",
        "outputId": "94ddb4ee-15f9-42c7-ad95-79877d3e2109",
        "colab": {
          "base_uri": "https://localhost:8080/"
        }
      },
      "execution_count": null,
      "outputs": [
        {
          "output_type": "execute_result",
          "data": {
            "text/plain": [
              "1    1732\n",
              "0     198\n",
              "Name: label, dtype: int64"
            ]
          },
          "metadata": {},
          "execution_count": 65
        }
      ]
    },
    {
      "cell_type": "code",
      "source": [
        "X_train,y_train = smote.fit_resample(X_train,y_train)"
      ],
      "metadata": {
        "id": "G6cRAY-AbvOS"
      },
      "execution_count": null,
      "outputs": []
    },
    {
      "cell_type": "code",
      "source": [
        "y_train.value_counts()"
      ],
      "metadata": {
        "id": "9z4h37_QbvQL",
        "outputId": "39881e77-53f6-4d58-b872-c73c51393f0a",
        "colab": {
          "base_uri": "https://localhost:8080/"
        }
      },
      "execution_count": null,
      "outputs": [
        {
          "output_type": "execute_result",
          "data": {
            "text/plain": [
              "1    1732\n",
              "0     866\n",
              "Name: label, dtype: int64"
            ]
          },
          "metadata": {},
          "execution_count": 67
        }
      ]
    },
    {
      "cell_type": "code",
      "source": [
        "SN = make_scorer(recall_score)\n",
        "\n",
        "SP = make_scorer(recall_score,pos_label=0)\n",
        "\n",
        "\n",
        "Q = make_scorer(accuracy_score)\n",
        "\n",
        "MCC = make_scorer(matthews_corrcoef)\n",
        "\n",
        "\n",
        "scoring = {\"SN\":SN,\"SP\":SP,\"Q\":Q,\"MCC\":MCC}"
      ],
      "metadata": {
        "id": "9z-XMi0Xc1AU"
      },
      "execution_count": null,
      "outputs": []
    },
    {
      "cell_type": "code",
      "source": [
        "clf = svm.SVC(kernel='linear',random_state=42)"
      ],
      "metadata": {
        "id": "RoxcUjcZdAMF"
      },
      "execution_count": null,
      "outputs": []
    },
    {
      "cell_type": "code",
      "source": [
        "cv_results = pd.DataFrame(cross_validate(clf,X_train,y_train,cv=10,scoring=scoring))"
      ],
      "metadata": {
        "id": "PASH8b9tdAN9"
      },
      "execution_count": null,
      "outputs": []
    },
    {
      "cell_type": "code",
      "source": [
        "cv_results.describe().T"
      ],
      "metadata": {
        "id": "AP0FazMedARz",
        "outputId": "4bdbc5bf-b35c-403d-bd8b-939d2d40f321",
        "colab": {
          "base_uri": "https://localhost:8080/",
          "height": 237
        }
      },
      "execution_count": null,
      "outputs": [
        {
          "output_type": "execute_result",
          "data": {
            "text/plain": [
              "            count      mean       std       min       25%       50%       75%  \\\n",
              "fit_time     10.0  1.593164  0.542761  1.034369  1.276048  1.412469  1.583090   \n",
              "score_time   10.0  0.097951  0.045417  0.054960  0.067779  0.092291  0.108558   \n",
              "test_SN      10.0  0.938788  0.018333  0.913295  0.926400  0.939306  0.952312   \n",
              "test_SP      10.0  0.852767  0.191645  0.465116  0.853448  0.942195  0.965417   \n",
              "test_Q       10.0  0.910331  0.061467  0.776923  0.907625  0.934482  0.947115   \n",
              "test_MCC     10.0  0.796999  0.150013  0.465963  0.792198  0.858430  0.884982   \n",
              "\n",
              "                 max  \n",
              "fit_time    2.724029  \n",
              "score_time  0.210997  \n",
              "test_SN     0.965517  \n",
              "test_SP     0.988506  \n",
              "test_Q      0.961538  \n",
              "test_MCC    0.915137  "
            ],
            "text/html": [
              "\n",
              "  <div id=\"df-76986257-c9a7-4df9-9690-1239bb31a4e5\">\n",
              "    <div class=\"colab-df-container\">\n",
              "      <div>\n",
              "<style scoped>\n",
              "    .dataframe tbody tr th:only-of-type {\n",
              "        vertical-align: middle;\n",
              "    }\n",
              "\n",
              "    .dataframe tbody tr th {\n",
              "        vertical-align: top;\n",
              "    }\n",
              "\n",
              "    .dataframe thead th {\n",
              "        text-align: right;\n",
              "    }\n",
              "</style>\n",
              "<table border=\"1\" class=\"dataframe\">\n",
              "  <thead>\n",
              "    <tr style=\"text-align: right;\">\n",
              "      <th></th>\n",
              "      <th>count</th>\n",
              "      <th>mean</th>\n",
              "      <th>std</th>\n",
              "      <th>min</th>\n",
              "      <th>25%</th>\n",
              "      <th>50%</th>\n",
              "      <th>75%</th>\n",
              "      <th>max</th>\n",
              "    </tr>\n",
              "  </thead>\n",
              "  <tbody>\n",
              "    <tr>\n",
              "      <th>fit_time</th>\n",
              "      <td>10.0</td>\n",
              "      <td>1.593164</td>\n",
              "      <td>0.542761</td>\n",
              "      <td>1.034369</td>\n",
              "      <td>1.276048</td>\n",
              "      <td>1.412469</td>\n",
              "      <td>1.583090</td>\n",
              "      <td>2.724029</td>\n",
              "    </tr>\n",
              "    <tr>\n",
              "      <th>score_time</th>\n",
              "      <td>10.0</td>\n",
              "      <td>0.097951</td>\n",
              "      <td>0.045417</td>\n",
              "      <td>0.054960</td>\n",
              "      <td>0.067779</td>\n",
              "      <td>0.092291</td>\n",
              "      <td>0.108558</td>\n",
              "      <td>0.210997</td>\n",
              "    </tr>\n",
              "    <tr>\n",
              "      <th>test_SN</th>\n",
              "      <td>10.0</td>\n",
              "      <td>0.938788</td>\n",
              "      <td>0.018333</td>\n",
              "      <td>0.913295</td>\n",
              "      <td>0.926400</td>\n",
              "      <td>0.939306</td>\n",
              "      <td>0.952312</td>\n",
              "      <td>0.965517</td>\n",
              "    </tr>\n",
              "    <tr>\n",
              "      <th>test_SP</th>\n",
              "      <td>10.0</td>\n",
              "      <td>0.852767</td>\n",
              "      <td>0.191645</td>\n",
              "      <td>0.465116</td>\n",
              "      <td>0.853448</td>\n",
              "      <td>0.942195</td>\n",
              "      <td>0.965417</td>\n",
              "      <td>0.988506</td>\n",
              "    </tr>\n",
              "    <tr>\n",
              "      <th>test_Q</th>\n",
              "      <td>10.0</td>\n",
              "      <td>0.910331</td>\n",
              "      <td>0.061467</td>\n",
              "      <td>0.776923</td>\n",
              "      <td>0.907625</td>\n",
              "      <td>0.934482</td>\n",
              "      <td>0.947115</td>\n",
              "      <td>0.961538</td>\n",
              "    </tr>\n",
              "    <tr>\n",
              "      <th>test_MCC</th>\n",
              "      <td>10.0</td>\n",
              "      <td>0.796999</td>\n",
              "      <td>0.150013</td>\n",
              "      <td>0.465963</td>\n",
              "      <td>0.792198</td>\n",
              "      <td>0.858430</td>\n",
              "      <td>0.884982</td>\n",
              "      <td>0.915137</td>\n",
              "    </tr>\n",
              "  </tbody>\n",
              "</table>\n",
              "</div>\n",
              "      <button class=\"colab-df-convert\" onclick=\"convertToInteractive('df-76986257-c9a7-4df9-9690-1239bb31a4e5')\"\n",
              "              title=\"Convert this dataframe to an interactive table.\"\n",
              "              style=\"display:none;\">\n",
              "        \n",
              "  <svg xmlns=\"http://www.w3.org/2000/svg\" height=\"24px\"viewBox=\"0 0 24 24\"\n",
              "       width=\"24px\">\n",
              "    <path d=\"M0 0h24v24H0V0z\" fill=\"none\"/>\n",
              "    <path d=\"M18.56 5.44l.94 2.06.94-2.06 2.06-.94-2.06-.94-.94-2.06-.94 2.06-2.06.94zm-11 1L8.5 8.5l.94-2.06 2.06-.94-2.06-.94L8.5 2.5l-.94 2.06-2.06.94zm10 10l.94 2.06.94-2.06 2.06-.94-2.06-.94-.94-2.06-.94 2.06-2.06.94z\"/><path d=\"M17.41 7.96l-1.37-1.37c-.4-.4-.92-.59-1.43-.59-.52 0-1.04.2-1.43.59L10.3 9.45l-7.72 7.72c-.78.78-.78 2.05 0 2.83L4 21.41c.39.39.9.59 1.41.59.51 0 1.02-.2 1.41-.59l7.78-7.78 2.81-2.81c.8-.78.8-2.07 0-2.86zM5.41 20L4 18.59l7.72-7.72 1.47 1.35L5.41 20z\"/>\n",
              "  </svg>\n",
              "      </button>\n",
              "      \n",
              "  <style>\n",
              "    .colab-df-container {\n",
              "      display:flex;\n",
              "      flex-wrap:wrap;\n",
              "      gap: 12px;\n",
              "    }\n",
              "\n",
              "    .colab-df-convert {\n",
              "      background-color: #E8F0FE;\n",
              "      border: none;\n",
              "      border-radius: 50%;\n",
              "      cursor: pointer;\n",
              "      display: none;\n",
              "      fill: #1967D2;\n",
              "      height: 32px;\n",
              "      padding: 0 0 0 0;\n",
              "      width: 32px;\n",
              "    }\n",
              "\n",
              "    .colab-df-convert:hover {\n",
              "      background-color: #E2EBFA;\n",
              "      box-shadow: 0px 1px 2px rgba(60, 64, 67, 0.3), 0px 1px 3px 1px rgba(60, 64, 67, 0.15);\n",
              "      fill: #174EA6;\n",
              "    }\n",
              "\n",
              "    [theme=dark] .colab-df-convert {\n",
              "      background-color: #3B4455;\n",
              "      fill: #D2E3FC;\n",
              "    }\n",
              "\n",
              "    [theme=dark] .colab-df-convert:hover {\n",
              "      background-color: #434B5C;\n",
              "      box-shadow: 0px 1px 3px 1px rgba(0, 0, 0, 0.15);\n",
              "      filter: drop-shadow(0px 1px 2px rgba(0, 0, 0, 0.3));\n",
              "      fill: #FFFFFF;\n",
              "    }\n",
              "  </style>\n",
              "\n",
              "      <script>\n",
              "        const buttonEl =\n",
              "          document.querySelector('#df-76986257-c9a7-4df9-9690-1239bb31a4e5 button.colab-df-convert');\n",
              "        buttonEl.style.display =\n",
              "          google.colab.kernel.accessAllowed ? 'block' : 'none';\n",
              "\n",
              "        async function convertToInteractive(key) {\n",
              "          const element = document.querySelector('#df-76986257-c9a7-4df9-9690-1239bb31a4e5');\n",
              "          const dataTable =\n",
              "            await google.colab.kernel.invokeFunction('convertToInteractive',\n",
              "                                                     [key], {});\n",
              "          if (!dataTable) return;\n",
              "\n",
              "          const docLinkHtml = 'Like what you see? Visit the ' +\n",
              "            '<a target=\"_blank\" href=https://colab.research.google.com/notebooks/data_table.ipynb>data table notebook</a>'\n",
              "            + ' to learn more about interactive tables.';\n",
              "          element.innerHTML = '';\n",
              "          dataTable['output_type'] = 'display_data';\n",
              "          await google.colab.output.renderOutput(dataTable, element);\n",
              "          const docLink = document.createElement('div');\n",
              "          docLink.innerHTML = docLinkHtml;\n",
              "          element.appendChild(docLink);\n",
              "        }\n",
              "      </script>\n",
              "    </div>\n",
              "  </div>\n",
              "  "
            ]
          },
          "metadata": {},
          "execution_count": 72
        }
      ]
    },
    {
      "cell_type": "code",
      "source": [
        "clf.fit(X_train,y_train)\n",
        "\n",
        "yHat_train= clf.predict(X_train)\n",
        "\n",
        "yHat_test = clf.predict(X_test)\n",
        "\n"
      ],
      "metadata": {
        "id": "YCRfXKj8dATw"
      },
      "execution_count": null,
      "outputs": []
    },
    {
      "cell_type": "code",
      "source": [
        "print(recall_score(y_train,yHat_train)) #SN\n",
        "print(recall_score(y_train,yHat_train,pos_label=0)) #SP\n",
        "print(matthews_corrcoef(y_train,yHat_train)) #MCC\n",
        "print(accuracy_score(y_train,yHat_train)) # Q"
      ],
      "metadata": {
        "id": "bucr5Y5QdRuD",
        "outputId": "45f44b53-dea6-4a69-cb69-9a76032545ad",
        "colab": {
          "base_uri": "https://localhost:8080/"
        }
      },
      "execution_count": null,
      "outputs": [
        {
          "output_type": "stream",
          "name": "stdout",
          "text": [
            "0.9647806004618937\n",
            "0.9110854503464203\n",
            "0.8800156709406318\n",
            "0.9468822170900693\n"
          ]
        }
      ]
    },
    {
      "cell_type": "code",
      "source": [
        "print(recall_score(y_train,yHat_train)) #SN\n",
        "print(recall_score(y_train,yHat_train,pos_label=0)) #SP\n",
        "print(matthews_corrcoef(y_train,yHat_train)) #MCC\n",
        "print(accuracy_score(y_train,yHat_train)) # Q"
      ],
      "metadata": {
        "id": "zBkZpp4YdRwJ",
        "outputId": "5894637e-5621-4659-823d-c45050e1479b",
        "colab": {
          "base_uri": "https://localhost:8080/"
        }
      },
      "execution_count": null,
      "outputs": [
        {
          "output_type": "stream",
          "name": "stdout",
          "text": [
            "0.9647806004618937\n",
            "0.9110854503464203\n",
            "0.8800156709406318\n",
            "0.9468822170900693\n"
          ]
        }
      ]
    },
    {
      "cell_type": "code",
      "source": [
        "from sklearn.metrics import RocCurveDisplay"
      ],
      "metadata": {
        "id": "BS3l74NjdRzT"
      },
      "execution_count": null,
      "outputs": []
    },
    {
      "cell_type": "code",
      "source": [
        "RocCurveDisplay.from_estimator(clf,X_test,y_test)"
      ],
      "metadata": {
        "id": "mLmO73NydR1c",
        "outputId": "378a27d1-e352-451f-fdaf-b80c9bcf3ed8",
        "colab": {
          "base_uri": "https://localhost:8080/",
          "height": 296
        }
      },
      "execution_count": null,
      "outputs": [
        {
          "output_type": "execute_result",
          "data": {
            "text/plain": [
              "<sklearn.metrics._plot.roc_curve.RocCurveDisplay at 0x7f2ad1fd2f10>"
            ]
          },
          "metadata": {},
          "execution_count": 77
        },
        {
          "output_type": "display_data",
          "data": {
            "text/plain": [
              "<Figure size 432x288 with 1 Axes>"
            ],
            "image/png": "[encoded data removed]"
          },
          "metadata": {
            "needs_background": "light"
          }
        }
      ]
    },
    {
      "cell_type": "code",
      "source": [],
      "metadata": {
        "id": "pyc4SmXcdR47"
      },
      "execution_count": null,
      "outputs": []
    },
    {
      "cell_type": "code",
      "source": [
        "##SVM with balance"
      ],
      "metadata": {
        "id": "DrEAx7ekdR8d"
      },
      "execution_count": null,
      "outputs": []
    },
    {
      "cell_type": "code",
      "source": [
        "df = pd.read_csv(\"PubChemFP_best.csv\")\n",
        "\n",
        "\n",
        "X = df.drop(\"label\",axis=1)\n",
        "\n",
        "y = df[\"label\"]"
      ],
      "metadata": {
        "id": "Cc9jzKytc1GK"
      },
      "execution_count": null,
      "outputs": []
    },
    {
      "cell_type": "code",
      "source": [
        "from sklearn.model_selection import train_test_split"
      ],
      "metadata": {
        "id": "2Twa5yVNc1Ib"
      },
      "execution_count": null,
      "outputs": []
    },
    {
      "cell_type": "code",
      "source": [
        "X_train, X_test, y_train, y_test = train_test_split(X, y, test_size=0.2, random_state=42)"
      ],
      "metadata": {
        "id": "4aGCDK78ecBQ"
      },
      "execution_count": null,
      "outputs": []
    },
    {
      "cell_type": "code",
      "source": [
        "from sklearn.model_selection import cross_validate\n",
        "\n",
        "from sklearn import svm\n",
        "\n",
        "from sklearn.metrics import accuracy_score,recall_score,precision_score,matthews_corrcoef,roc_auc_score,make_scorer,auc"
      ],
      "metadata": {
        "id": "bCjkeiImecDi"
      },
      "execution_count": null,
      "outputs": []
    },
    {
      "cell_type": "code",
      "source": [
        "clf = svm.SVC(kernel='linear',class_weight=\"balanced\",random_state=42)"
      ],
      "metadata": {
        "id": "iTD9TSQkecKR"
      },
      "execution_count": null,
      "outputs": []
    },
    {
      "cell_type": "code",
      "source": [
        "cv_results = pd.DataFrame(cross_validate(clf,X_train,y_train,cv=10,scoring=scoring))"
      ],
      "metadata": {
        "id": "7rZvkc0MecOB"
      },
      "execution_count": null,
      "outputs": []
    },
    {
      "cell_type": "code",
      "source": [
        "cv_results.describe().T"
      ],
      "metadata": {
        "id": "pBFJ39ZqecWg",
        "outputId": "ddbd6416-9629-47fa-ae8a-4ee29349b770",
        "colab": {
          "base_uri": "https://localhost:8080/",
          "height": 237
        }
      },
      "execution_count": null,
      "outputs": [
        {
          "output_type": "execute_result",
          "data": {
            "text/plain": [
              "            count      mean       std       min       25%       50%       75%  \\\n",
              "fit_time     10.0  0.706259  0.341431  0.378450  0.443072  0.552125  0.894561   \n",
              "score_time   10.0  0.043920  0.020206  0.031408  0.032381  0.038076  0.045100   \n",
              "test_SN      10.0  0.847575  0.038133  0.786127  0.822254  0.846821  0.871387   \n",
              "test_SP      10.0  0.554737  0.141925  0.315789  0.500000  0.525000  0.611184   \n",
              "test_Q       10.0  0.817617  0.033472  0.756477  0.797927  0.821244  0.834197   \n",
              "test_MCC     10.0  0.310490  0.099204  0.167561  0.249431  0.311719  0.335070   \n",
              "\n",
              "                 max  \n",
              "fit_time    1.349461  \n",
              "score_time  0.098854  \n",
              "test_SN     0.913295  \n",
              "test_SP     0.800000  \n",
              "test_Q      0.865285  \n",
              "test_MCC    0.506297  "
            ],
            "text/html": [
              "\n",
              "  <div id=\"df-38ce9d68-4947-4dbc-ae6c-2be6d87629f5\">\n",
              "    <div class=\"colab-df-container\">\n",
              "      <div>\n",
              "<style scoped>\n",
              "    .dataframe tbody tr th:only-of-type {\n",
              "        vertical-align: middle;\n",
              "    }\n",
              "\n",
              "    .dataframe tbody tr th {\n",
              "        vertical-align: top;\n",
              "    }\n",
              "\n",
              "    .dataframe thead th {\n",
              "        text-align: right;\n",
              "    }\n",
              "</style>\n",
              "<table border=\"1\" class=\"dataframe\">\n",
              "  <thead>\n",
              "    <tr style=\"text-align: right;\">\n",
              "      <th></th>\n",
              "      <th>count</th>\n",
              "      <th>mean</th>\n",
              "      <th>std</th>\n",
              "      <th>min</th>\n",
              "      <th>25%</th>\n",
              "      <th>50%</th>\n",
              "      <th>75%</th>\n",
              "      <th>max</th>\n",
              "    </tr>\n",
              "  </thead>\n",
              "  <tbody>\n",
              "    <tr>\n",
              "      <th>fit_time</th>\n",
              "      <td>10.0</td>\n",
              "      <td>0.706259</td>\n",
              "      <td>0.341431</td>\n",
              "      <td>0.378450</td>\n",
              "      <td>0.443072</td>\n",
              "      <td>0.552125</td>\n",
              "      <td>0.894561</td>\n",
              "      <td>1.349461</td>\n",
              "    </tr>\n",
              "    <tr>\n",
              "      <th>score_time</th>\n",
              "      <td>10.0</td>\n",
              "      <td>0.043920</td>\n",
              "      <td>0.020206</td>\n",
              "      <td>0.031408</td>\n",
              "      <td>0.032381</td>\n",
              "      <td>0.038076</td>\n",
              "      <td>0.045100</td>\n",
              "      <td>0.098854</td>\n",
              "    </tr>\n",
              "    <tr>\n",
              "      <th>test_SN</th>\n",
              "      <td>10.0</td>\n",
              "      <td>0.847575</td>\n",
              "      <td>0.038133</td>\n",
              "      <td>0.786127</td>\n",
              "      <td>0.822254</td>\n",
              "      <td>0.846821</td>\n",
              "      <td>0.871387</td>\n",
              "      <td>0.913295</td>\n",
              "    </tr>\n",
              "    <tr>\n",
              "      <th>test_SP</th>\n",
              "      <td>10.0</td>\n",
              "      <td>0.554737</td>\n",
              "      <td>0.141925</td>\n",
              "      <td>0.315789</td>\n",
              "      <td>0.500000</td>\n",
              "      <td>0.525000</td>\n",
              "      <td>0.611184</td>\n",
              "      <td>0.800000</td>\n",
              "    </tr>\n",
              "    <tr>\n",
              "      <th>test_Q</th>\n",
              "      <td>10.0</td>\n",
              "      <td>0.817617</td>\n",
              "      <td>0.033472</td>\n",
              "      <td>0.756477</td>\n",
              "      <td>0.797927</td>\n",
              "      <td>0.821244</td>\n",
              "      <td>0.834197</td>\n",
              "      <td>0.865285</td>\n",
              "    </tr>\n",
              "    <tr>\n",
              "      <th>test_MCC</th>\n",
              "      <td>10.0</td>\n",
              "      <td>0.310490</td>\n",
              "      <td>0.099204</td>\n",
              "      <td>0.167561</td>\n",
              "      <td>0.249431</td>\n",
              "      <td>0.311719</td>\n",
              "      <td>0.335070</td>\n",
              "      <td>0.506297</td>\n",
              "    </tr>\n",
              "  </tbody>\n",
              "</table>\n",
              "</div>\n",
              "      <button class=\"colab-df-convert\" onclick=\"convertToInteractive('df-38ce9d68-4947-4dbc-ae6c-2be6d87629f5')\"\n",
              "              title=\"Convert this dataframe to an interactive table.\"\n",
              "              style=\"display:none;\">\n",
              "        \n",
              "  <svg xmlns=\"http://www.w3.org/2000/svg\" height=\"24px\"viewBox=\"0 0 24 24\"\n",
              "       width=\"24px\">\n",
              "    <path d=\"M0 0h24v24H0V0z\" fill=\"none\"/>\n",
              "    <path d=\"M18.56 5.44l.94 2.06.94-2.06 2.06-.94-2.06-.94-.94-2.06-.94 2.06-2.06.94zm-11 1L8.5 8.5l.94-2.06 2.06-.94-2.06-.94L8.5 2.5l-.94 2.06-2.06.94zm10 10l.94 2.06.94-2.06 2.06-.94-2.06-.94-.94-2.06-.94 2.06-2.06.94z\"/><path d=\"M17.41 7.96l-1.37-1.37c-.4-.4-.92-.59-1.43-.59-.52 0-1.04.2-1.43.59L10.3 9.45l-7.72 7.72c-.78.78-.78 2.05 0 2.83L4 21.41c.39.39.9.59 1.41.59.51 0 1.02-.2 1.41-.59l7.78-7.78 2.81-2.81c.8-.78.8-2.07 0-2.86zM5.41 20L4 18.59l7.72-7.72 1.47 1.35L5.41 20z\"/>\n",
              "  </svg>\n",
              "      </button>\n",
              "      \n",
              "  <style>\n",
              "    .colab-df-container {\n",
              "      display:flex;\n",
              "      flex-wrap:wrap;\n",
              "      gap: 12px;\n",
              "    }\n",
              "\n",
              "    .colab-df-convert {\n",
              "      background-color: #E8F0FE;\n",
              "      border: none;\n",
              "      border-radius: 50%;\n",
              "      cursor: pointer;\n",
              "      display: none;\n",
              "      fill: #1967D2;\n",
              "      height: 32px;\n",
              "      padding: 0 0 0 0;\n",
              "      width: 32px;\n",
              "    }\n",
              "\n",
              "    .colab-df-convert:hover {\n",
              "      background-color: #E2EBFA;\n",
              "      box-shadow: 0px 1px 2px rgba(60, 64, 67, 0.3), 0px 1px 3px 1px rgba(60, 64, 67, 0.15);\n",
              "      fill: #174EA6;\n",
              "    }\n",
              "\n",
              "    [theme=dark] .colab-df-convert {\n",
              "      background-color: #3B4455;\n",
              "      fill: #D2E3FC;\n",
              "    }\n",
              "\n",
              "    [theme=dark] .colab-df-convert:hover {\n",
              "      background-color: #434B5C;\n",
              "      box-shadow: 0px 1px 3px 1px rgba(0, 0, 0, 0.15);\n",
              "      filter: drop-shadow(0px 1px 2px rgba(0, 0, 0, 0.3));\n",
              "      fill: #FFFFFF;\n",
              "    }\n",
              "  </style>\n",
              "\n",
              "      <script>\n",
              "        const buttonEl =\n",
              "          document.querySelector('#df-38ce9d68-4947-4dbc-ae6c-2be6d87629f5 button.colab-df-convert');\n",
              "        buttonEl.style.display =\n",
              "          google.colab.kernel.accessAllowed ? 'block' : 'none';\n",
              "\n",
              "        async function convertToInteractive(key) {\n",
              "          const element = document.querySelector('#df-38ce9d68-4947-4dbc-ae6c-2be6d87629f5');\n",
              "          const dataTable =\n",
              "            await google.colab.kernel.invokeFunction('convertToInteractive',\n",
              "                                                     [key], {});\n",
              "          if (!dataTable) return;\n",
              "\n",
              "          const docLinkHtml = 'Like what you see? Visit the ' +\n",
              "            '<a target=\"_blank\" href=https://colab.research.google.com/notebooks/data_table.ipynb>data table notebook</a>'\n",
              "            + ' to learn more about interactive tables.';\n",
              "          element.innerHTML = '';\n",
              "          dataTable['output_type'] = 'display_data';\n",
              "          await google.colab.output.renderOutput(dataTable, element);\n",
              "          const docLink = document.createElement('div');\n",
              "          docLink.innerHTML = docLinkHtml;\n",
              "          element.appendChild(docLink);\n",
              "        }\n",
              "      </script>\n",
              "    </div>\n",
              "  </div>\n",
              "  "
            ]
          },
          "metadata": {},
          "execution_count": 85
        }
      ]
    },
    {
      "cell_type": "code",
      "source": [
        "clf.fit(X_train,y_train)"
      ],
      "metadata": {
        "id": "VAXhk5ZgfOA6",
        "outputId": "c6a0069a-9758-4908-8499-10e3999fb472",
        "colab": {
          "base_uri": "https://localhost:8080/"
        }
      },
      "execution_count": null,
      "outputs": [
        {
          "output_type": "execute_result",
          "data": {
            "text/plain": [
              "SVC(class_weight='balanced', kernel='linear', random_state=42)"
            ]
          },
          "metadata": {},
          "execution_count": 86
        }
      ]
    },
    {
      "cell_type": "code",
      "source": [
        "yHat_train= clf.predict(X_train)\n",
        "\n",
        "yHat_test = clf.predict(X_test)\n",
        "\n"
      ],
      "metadata": {
        "id": "DZ2VwPunfODB"
      },
      "execution_count": null,
      "outputs": []
    },
    {
      "cell_type": "code",
      "source": [
        "print(recall_score(y_train,yHat_train)) #SN\n",
        "print(recall_score(y_train,yHat_train,pos_label=0)) #SP\n",
        "print(matthews_corrcoef(y_train,yHat_train)) #MCC\n",
        "print(accuracy_score(y_train,yHat_train)) # Q\n"
      ],
      "metadata": {
        "id": "LYbnIgKZfOGv",
        "outputId": "1a6e91b9-4bb2-43af-c091-be6930e0dcb5",
        "colab": {
          "base_uri": "https://localhost:8080/"
        }
      },
      "execution_count": null,
      "outputs": [
        {
          "output_type": "stream",
          "name": "stdout",
          "text": [
            "0.8810623556581986\n",
            "0.9848484848484849\n",
            "0.6475954468791898\n",
            "0.8917098445595855\n"
          ]
        }
      ]
    },
    {
      "cell_type": "code",
      "source": [
        "print(recall_score(y_test,yHat_test))\n",
        "print(recall_score(y_test,yHat_test,pos_label=0))\n",
        "print(matthews_corrcoef(y_test,yHat_test))\n",
        "print(accuracy_score(y_test,yHat_test))\n"
      ],
      "metadata": {
        "id": "_HosTgfRfOI-",
        "outputId": "5f7e8e56-a044-419d-8d5b-717b2539df32",
        "colab": {
          "base_uri": "https://localhost:8080/"
        }
      },
      "execution_count": null,
      "outputs": [
        {
          "output_type": "stream",
          "name": "stdout",
          "text": [
            "0.8551724137931035\n",
            "0.6458333333333334\n",
            "0.3785900776328756\n",
            "0.8343685300207039\n"
          ]
        }
      ]
    },
    {
      "cell_type": "code",
      "source": [
        "from sklearn.metrics import RocCurveDisplay"
      ],
      "metadata": {
        "id": "sjp3WQbJfOMo"
      },
      "execution_count": null,
      "outputs": []
    },
    {
      "cell_type": "code",
      "source": [
        "RocCurveDisplay.from_estimator(clf,X_test,y_test)"
      ],
      "metadata": {
        "id": "DrtRD8r9ecm8",
        "outputId": "0775f6fc-aaf8-47d8-d4d6-989861d7ea76",
        "colab": {
          "base_uri": "https://localhost:8080/",
          "height": 296
        }
      },
      "execution_count": null,
      "outputs": [
        {
          "output_type": "execute_result",
          "data": {
            "text/plain": [
              "<sklearn.metrics._plot.roc_curve.RocCurveDisplay at 0x7f2ad0de5f10>"
            ]
          },
          "metadata": {},
          "execution_count": 91
        },
        {
          "output_type": "display_data",
          "data": {
            "text/plain": [
              "<Figure size 432x288 with 1 Axes>"
            ],
            "image/png": "[encoded data removed]"
          },
          "metadata": {
            "needs_background": "light"
          }
        }
      ]
    }
  ]
}